{
 "cells": [
  {
   "cell_type": "markdown",
   "metadata": {
    "id": "bzIHdHV56bSJ"
   },
   "source": [
    "# Text classification using NLP / Core engine of a chat bot."
   ]
  },
  {
   "cell_type": "markdown",
   "metadata": {
    "id": "TG9MLghc6bSN"
   },
   "source": [
    "Human language is astoundingly complex and diverse. When we write, we often misspell or abbreviate words, or omit punctuation. There is a lot of unstructured data around us. Natural language processing helps computers communicate with humans in their own language and scales other language-related tasks. For example, NLP makes it possible for computers to read text, interpret it, measure sentiment and determine which parts are important. Understanding this will enable you to build the core component of any conversational chatbot. This is the core engine of a conversational chatbot"
   ]
  },
  {
   "cell_type": "markdown",
   "metadata": {
    "id": "z93i5WjN6bSO"
   },
   "source": [
    "\n"
   ]
  },
  {
   "cell_type": "markdown",
   "metadata": {
    "id": "5UyMkdTg6bSP"
   },
   "source": [
    "# Import useful libraries"
   ]
  },
  {
   "cell_type": "code",
   "execution_count": 1,
   "metadata": {
    "id": "uDS0-5VA6bSQ"
   },
   "outputs": [],
   "source": [
    "import nltk"
   ]
  },
  {
   "cell_type": "code",
   "execution_count": 2,
   "metadata": {
    "colab": {
     "base_uri": "https://localhost:8080/"
    },
    "id": "nQaMgg266bSQ",
    "outputId": "13de9565-a50c-4211-dbda-561b67ba8bea"
   },
   "outputs": [
    {
     "name": "stderr",
     "output_type": "stream",
     "text": [
      "[nltk_data] Downloading collection 'popular'\n",
      "[nltk_data]    | \n",
      "[nltk_data]    | Downloading package cmudict to\n",
      "[nltk_data]    |     C:\\Users\\jawhe\\AppData\\Roaming\\nltk_data...\n",
      "[nltk_data]    |   Package cmudict is already up-to-date!\n",
      "[nltk_data]    | Downloading package gazetteers to\n",
      "[nltk_data]    |     C:\\Users\\jawhe\\AppData\\Roaming\\nltk_data...\n",
      "[nltk_data]    |   Package gazetteers is already up-to-date!\n",
      "[nltk_data]    | Downloading package genesis to\n",
      "[nltk_data]    |     C:\\Users\\jawhe\\AppData\\Roaming\\nltk_data...\n",
      "[nltk_data]    |   Package genesis is already up-to-date!\n",
      "[nltk_data]    | Downloading package gutenberg to\n",
      "[nltk_data]    |     C:\\Users\\jawhe\\AppData\\Roaming\\nltk_data...\n",
      "[nltk_data]    |   Package gutenberg is already up-to-date!\n",
      "[nltk_data]    | Downloading package inaugural to\n",
      "[nltk_data]    |     C:\\Users\\jawhe\\AppData\\Roaming\\nltk_data...\n",
      "[nltk_data]    |   Package inaugural is already up-to-date!\n",
      "[nltk_data]    | Downloading package movie_reviews to\n",
      "[nltk_data]    |     C:\\Users\\jawhe\\AppData\\Roaming\\nltk_data...\n",
      "[nltk_data]    |   Package movie_reviews is already up-to-date!\n",
      "[nltk_data]    | Downloading package names to\n",
      "[nltk_data]    |     C:\\Users\\jawhe\\AppData\\Roaming\\nltk_data...\n",
      "[nltk_data]    |   Package names is already up-to-date!\n",
      "[nltk_data]    | Downloading package shakespeare to\n",
      "[nltk_data]    |     C:\\Users\\jawhe\\AppData\\Roaming\\nltk_data...\n",
      "[nltk_data]    |   Package shakespeare is already up-to-date!\n",
      "[nltk_data]    | Downloading package stopwords to\n",
      "[nltk_data]    |     C:\\Users\\jawhe\\AppData\\Roaming\\nltk_data...\n",
      "[nltk_data]    |   Package stopwords is already up-to-date!\n",
      "[nltk_data]    | Downloading package treebank to\n",
      "[nltk_data]    |     C:\\Users\\jawhe\\AppData\\Roaming\\nltk_data...\n",
      "[nltk_data]    |   Package treebank is already up-to-date!\n",
      "[nltk_data]    | Downloading package twitter_samples to\n",
      "[nltk_data]    |     C:\\Users\\jawhe\\AppData\\Roaming\\nltk_data...\n",
      "[nltk_data]    |   Package twitter_samples is already up-to-date!\n",
      "[nltk_data]    | Downloading package omw to\n",
      "[nltk_data]    |     C:\\Users\\jawhe\\AppData\\Roaming\\nltk_data...\n",
      "[nltk_data]    |   Package omw is already up-to-date!\n",
      "[nltk_data]    | Downloading package omw-1.4 to\n",
      "[nltk_data]    |     C:\\Users\\jawhe\\AppData\\Roaming\\nltk_data...\n",
      "[nltk_data]    |   Package omw-1.4 is already up-to-date!\n",
      "[nltk_data]    | Downloading package wordnet to\n",
      "[nltk_data]    |     C:\\Users\\jawhe\\AppData\\Roaming\\nltk_data...\n",
      "[nltk_data]    |   Package wordnet is already up-to-date!\n",
      "[nltk_data]    | Downloading package wordnet2021 to\n",
      "[nltk_data]    |     C:\\Users\\jawhe\\AppData\\Roaming\\nltk_data...\n",
      "[nltk_data]    |   Package wordnet2021 is already up-to-date!\n",
      "[nltk_data]    | Downloading package wordnet31 to\n",
      "[nltk_data]    |     C:\\Users\\jawhe\\AppData\\Roaming\\nltk_data...\n",
      "[nltk_data]    |   Package wordnet31 is already up-to-date!\n",
      "[nltk_data]    | Downloading package wordnet_ic to\n",
      "[nltk_data]    |     C:\\Users\\jawhe\\AppData\\Roaming\\nltk_data...\n",
      "[nltk_data]    |   Package wordnet_ic is already up-to-date!\n",
      "[nltk_data]    | Downloading package words to\n",
      "[nltk_data]    |     C:\\Users\\jawhe\\AppData\\Roaming\\nltk_data...\n",
      "[nltk_data]    |   Package words is already up-to-date!\n",
      "[nltk_data]    | Downloading package maxent_ne_chunker to\n",
      "[nltk_data]    |     C:\\Users\\jawhe\\AppData\\Roaming\\nltk_data...\n",
      "[nltk_data]    |   Package maxent_ne_chunker is already up-to-date!\n",
      "[nltk_data]    | Downloading package punkt to\n",
      "[nltk_data]    |     C:\\Users\\jawhe\\AppData\\Roaming\\nltk_data...\n",
      "[nltk_data]    |   Package punkt is already up-to-date!\n",
      "[nltk_data]    | Downloading package snowball_data to\n",
      "[nltk_data]    |     C:\\Users\\jawhe\\AppData\\Roaming\\nltk_data...\n",
      "[nltk_data]    |   Package snowball_data is already up-to-date!\n",
      "[nltk_data]    | Downloading package averaged_perceptron_tagger to\n",
      "[nltk_data]    |     C:\\Users\\jawhe\\AppData\\Roaming\\nltk_data...\n",
      "[nltk_data]    |   Package averaged_perceptron_tagger is already up-\n",
      "[nltk_data]    |       to-date!\n",
      "[nltk_data]    | \n",
      "[nltk_data]  Done downloading collection popular\n"
     ]
    },
    {
     "data": {
      "text/plain": [
       "True"
      ]
     },
     "execution_count": 2,
     "metadata": {},
     "output_type": "execute_result"
    }
   ],
   "source": [
    "nltk.download(\"popular\")"
   ]
  },
  {
   "cell_type": "markdown",
   "metadata": {
    "id": "OBGv08Ax6bSR"
   },
   "source": [
    "### Install NLTK components:\n",
    "    \n",
    "nltk.download_gui()\n",
    "\n",
    "#The above will open a GUI\n",
    "Select the below\n",
    "\n",
    "    stopwords from Corpa\n",
    "    averaged_perceptron_tagger from All corpus\n",
    "    wordnet\n",
    "    \n",
    "OR you can download all the nltk components by:\n",
    "    nltk.download()\n",
    "    \n",
    "Please Note: The above will take much time (30-60mins depending on Internet speed)"
   ]
  },
  {
   "cell_type": "code",
   "execution_count": 3,
   "metadata": {
    "id": "5rvhzB7E6bSS"
   },
   "outputs": [],
   "source": [
    "import re\n",
    "import os\n",
    "import csv\n",
    "from nltk.stem.snowball import SnowballStemmer\n",
    "import random\n",
    "from nltk.classify import SklearnClassifier\n",
    "from nltk.tokenize import RegexpTokenizer\n",
    "from nltk.corpus import stopwords\n",
    "from nltk.stem.wordnet import WordNetLemmatizer\n",
    "import numpy as np\n",
    "import pandas as pd"
   ]
  },
  {
   "cell_type": "code",
   "execution_count": 5,
   "metadata": {
    "id": "ldIAT_rQ6bST"
   },
   "outputs": [],
   "source": [
    "## Get multiple outputs in the same cell\n",
    "from IPython.core.interactiveshell import InteractiveShell\n",
    "InteractiveShell.ast_node_interactivity = \"all\"\n",
    "\n",
    "## Ignore all warnings\n",
    "import warnings\n",
    "warnings.filterwarnings('ignore')\n",
    "warnings.filterwarnings(action='ignore', category=DeprecationWarning)"
   ]
  },
  {
   "cell_type": "code",
   "execution_count": 6,
   "metadata": {
    "id": "NUv3NX7b6bST"
   },
   "outputs": [],
   "source": [
    "## Display all rows and columns of a dataframe instead of a truncated version\n",
    "from IPython.display import display\n",
    "pd.set_option('display.max_columns', None)\n",
    "pd.set_option('display.max_rows', None)"
   ]
  },
  {
   "cell_type": "markdown",
   "metadata": {
    "id": "ZBU4auEy6bST"
   },
   "source": [
    "## Preprocess"
   ]
  },
  {
   "cell_type": "code",
   "execution_count": 7,
   "metadata": {
    "id": "ORj2Bps86bSU"
   },
   "outputs": [],
   "source": [
    "sentence = \"The Big brown fox jumped over a lazy dog.\"\n",
    "sentence2 = \"This is particularly important in today's world where we are swamped with unstructured natural language data on the variety of social media platforms people engage in now-a-days (note -  now-a-days in the decade of 2010-2020)\""
   ]
  },
  {
   "cell_type": "code",
   "execution_count": 8,
   "metadata": {
    "colab": {
     "base_uri": "https://localhost:8080/",
     "height": 71
    },
    "id": "-C8kW_hP6bSU",
    "outputId": "bcf91d8b-b1cc-482b-b1a5-6b27dc75caab"
   },
   "outputs": [
    {
     "data": {
      "text/plain": [
       "False"
      ]
     },
     "execution_count": 8,
     "metadata": {},
     "output_type": "execute_result"
    },
    {
     "name": "stdout",
     "output_type": "stream",
     "text": [
      "abcdefgh\n"
     ]
    },
    {
     "data": {
      "text/plain": [
       "'the big brown fox jumped over a lazy dog.'"
      ]
     },
     "execution_count": 8,
     "metadata": {},
     "output_type": "execute_result"
    },
    {
     "data": {
      "text/plain": [
       "\"this is particularly important in today's world where we are swamped with unstructured natural language data on the variety of social media platforms people engage in now-a-days (note -  now-a-days in the decade of 2010-2020)\""
      ]
     },
     "execution_count": 8,
     "metadata": {},
     "output_type": "execute_result"
    }
   ],
   "source": [
    "#convert sentence to lower case\n",
    "'This' == 'this'\n",
    "print('AbcdEFgH'.lower())\n",
    "sentence.lower()\n",
    "sentence2.lower()"
   ]
  },
  {
   "cell_type": "markdown",
   "metadata": {
    "id": "edMLt0AI6bSV"
   },
   "source": [
    "### Tokenize - extract individual words"
   ]
  },
  {
   "cell_type": "code",
   "execution_count": 9,
   "metadata": {
    "colab": {
     "base_uri": "https://localhost:8080/"
    },
    "id": "7VPL6Osp6bSV",
    "outputId": "be624dea-9de1-4c95-ddaf-368812d14430"
   },
   "outputs": [
    {
     "data": {
      "text/plain": [
       "['The', 'Big', 'brown', 'fox', 'jumped', 'over', 'a', 'lazy', 'dog']"
      ]
     },
     "execution_count": 9,
     "metadata": {},
     "output_type": "execute_result"
    },
    {
     "data": {
      "text/plain": [
       "['This',\n",
       " 'is',\n",
       " 'particularly',\n",
       " 'important',\n",
       " 'in',\n",
       " 'today',\n",
       " 's',\n",
       " 'world',\n",
       " 'where',\n",
       " 'we',\n",
       " 'are',\n",
       " 'swamped',\n",
       " 'with',\n",
       " 'unstructured',\n",
       " 'natural',\n",
       " 'language',\n",
       " 'data',\n",
       " 'on',\n",
       " 'the',\n",
       " 'variety',\n",
       " 'of',\n",
       " 'social',\n",
       " 'media',\n",
       " 'platforms',\n",
       " 'people',\n",
       " 'engage',\n",
       " 'in',\n",
       " 'now',\n",
       " 'a',\n",
       " 'days',\n",
       " 'note',\n",
       " 'now',\n",
       " 'a',\n",
       " 'days',\n",
       " 'in',\n",
       " 'the',\n",
       " 'decade',\n",
       " 'of',\n",
       " '2010',\n",
       " '2020']"
      ]
     },
     "execution_count": 9,
     "metadata": {},
     "output_type": "execute_result"
    }
   ],
   "source": [
    "tokenizer = RegexpTokenizer(r'\\w+')\n",
    "tokens = tokenizer.tokenize(sentence)\n",
    "tokens\n",
    "tokens2 = tokenizer.tokenize(sentence2)\n",
    "tokens2"
   ]
  },
  {
   "cell_type": "markdown",
   "metadata": {
    "id": "eorwqi5O6bSV"
   },
   "source": [
    "### Stopwords : Filter words to remove non-useful words"
   ]
  },
  {
   "cell_type": "code",
   "execution_count": 10,
   "metadata": {
    "colab": {
     "base_uri": "https://localhost:8080/"
    },
    "id": "3Egxc-Zt6bSV",
    "outputId": "28b6b9e3-0349-4d79-c437-d8b8e926e7ad"
   },
   "outputs": [
    {
     "data": {
      "text/plain": [
       "['The', 'Big', 'brown', 'fox', 'jumped', 'lazy', 'dog']"
      ]
     },
     "execution_count": 10,
     "metadata": {},
     "output_type": "execute_result"
    }
   ],
   "source": [
    "filtered_words = [w for w in tokens if not w in stopwords.words('english')]\n",
    "filtered_words"
   ]
  },
  {
   "cell_type": "code",
   "execution_count": 11,
   "metadata": {
    "colab": {
     "base_uri": "https://localhost:8080/"
    },
    "id": "d2K-sxVN6bSV",
    "outputId": "6e9a9a49-63b8-4b8e-876b-ab65ec8a863e"
   },
   "outputs": [
    {
     "data": {
      "text/plain": [
       "['This',\n",
       " 'particularly',\n",
       " 'important',\n",
       " 'today',\n",
       " 'world',\n",
       " 'swamped',\n",
       " 'unstructured',\n",
       " 'natural',\n",
       " 'language',\n",
       " 'data',\n",
       " 'variety',\n",
       " 'social',\n",
       " 'media',\n",
       " 'platforms',\n",
       " 'people',\n",
       " 'engage',\n",
       " 'days',\n",
       " 'note',\n",
       " 'days',\n",
       " 'decade',\n",
       " '2010',\n",
       " '2020']"
      ]
     },
     "execution_count": 11,
     "metadata": {},
     "output_type": "execute_result"
    }
   ],
   "source": [
    "filtered_words = [w for w in tokens2 if not w in stopwords.words('english')]\n",
    "filtered_words"
   ]
  },
  {
   "cell_type": "code",
   "execution_count": 12,
   "metadata": {
    "id": "4-2-ZFgb6bSW"
   },
   "outputs": [],
   "source": [
    "def preprocess(sentence):\n",
    "    sentence = sentence.lower()\n",
    "    tokenizer = RegexpTokenizer(r'\\w+')\n",
    "    tokens = tokenizer.tokenize(sentence)\n",
    "    filtered_words = [w for w in tokens if not w in stopwords.words('english')]\n",
    "    return filtered_words"
   ]
  },
  {
   "cell_type": "code",
   "execution_count": 13,
   "metadata": {
    "colab": {
     "base_uri": "https://localhost:8080/"
    },
    "id": "WkN-ZQhE6bSW",
    "outputId": "10bd08e6-5486-4b5e-e56c-4bb8d25d20d4"
   },
   "outputs": [
    {
     "name": "stdout",
     "output_type": "stream",
     "text": [
      "['big', 'brown', 'fox', 'jumped', 'lazy', 'dog']\n"
     ]
    }
   ],
   "source": [
    "preprocessed_sentence = preprocess(sentence)\n",
    "print(preprocessed_sentence)"
   ]
  },
  {
   "cell_type": "code",
   "execution_count": 14,
   "metadata": {
    "colab": {
     "base_uri": "https://localhost:8080/"
    },
    "id": "OMNkmirP6bSW",
    "outputId": "c8a242c4-3b41-4785-9b9f-5dec63eef296"
   },
   "outputs": [
    {
     "data": {
      "text/plain": [
       "['particularly',\n",
       " 'important',\n",
       " 'today',\n",
       " 'world',\n",
       " 'swamped',\n",
       " 'unstructured',\n",
       " 'natural',\n",
       " 'language',\n",
       " 'data',\n",
       " 'variety',\n",
       " 'social',\n",
       " 'media',\n",
       " 'platforms',\n",
       " 'people',\n",
       " 'engage',\n",
       " 'days',\n",
       " 'note',\n",
       " 'days',\n",
       " 'decade',\n",
       " '2010',\n",
       " '2020']"
      ]
     },
     "execution_count": 14,
     "metadata": {},
     "output_type": "execute_result"
    }
   ],
   "source": [
    "preprocess(sentence2)"
   ]
  },
  {
   "cell_type": "markdown",
   "metadata": {
    "id": "BQfrs62F6bSW"
   },
   "source": [
    "## Tagging"
   ]
  },
  {
   "cell_type": "code",
   "execution_count": 15,
   "metadata": {
    "colab": {
     "base_uri": "https://localhost:8080/"
    },
    "id": "G8EhTpHu6bSW",
    "outputId": "a6b0dda0-9d85-4367-82d6-9dce570dac78"
   },
   "outputs": [
    {
     "name": "stdout",
     "output_type": "stream",
     "text": [
      "[('big', 'JJ'), ('brown', 'NN'), ('fox', 'NN'), ('jumped', 'VBD'), ('lazy', 'JJ'), ('dog', 'NN')]\n"
     ]
    }
   ],
   "source": [
    "tags = nltk.pos_tag(preprocessed_sentence)\n",
    "print(tags)"
   ]
  },
  {
   "cell_type": "code",
   "execution_count": 16,
   "metadata": {
    "colab": {
     "base_uri": "https://localhost:8080/"
    },
    "id": "umMBZv6t6bSW",
    "outputId": "78c8bada-c855-425a-efb1-5f2e2c389ba4"
   },
   "outputs": [
    {
     "name": "stdout",
     "output_type": "stream",
     "text": [
      "[('particularly', 'RB'), ('important', 'JJ'), ('today', 'NN'), ('world', 'NN'), ('swamped', 'VBD'), ('unstructured', 'JJ'), ('natural', 'JJ'), ('language', 'NN'), ('data', 'NNS'), ('variety', 'NN'), ('social', 'JJ'), ('media', 'NNS'), ('platforms', 'NNS'), ('people', 'NNS'), ('engage', 'VBP'), ('days', 'NNS'), ('note', 'VBP'), ('days', 'NNS'), ('decade', 'NN'), ('2010', 'CD'), ('2020', 'CD')]\n"
     ]
    }
   ],
   "source": [
    "tags = nltk.pos_tag(preprocess(sentence2))\n",
    "print(tags)"
   ]
  },
  {
   "cell_type": "markdown",
   "metadata": {
    "id": "ILZa7mHq6bSX"
   },
   "source": [
    "## Extracting only Nouns and Verb nouns"
   ]
  },
  {
   "cell_type": "raw",
   "metadata": {
    "id": "xVLKKHXj6bSX"
   },
   "source": [
    "POS tag list:\n",
    "\n",
    "CC coordinating conjunction\n",
    "CD cardinal digit\n",
    "DT determiner\n",
    "EX existential there (like: \"there is\" ... think of it like \"there exists\")\n",
    "FW foreign word\n",
    "IN preposition/subordinating conjunction\n",
    "JJ adjective 'big'\n",
    "JJR adjective, comparative 'bigger'\n",
    "JJS adjective, superlative 'biggest'\n",
    "LS list marker 1)\n",
    "MD modal could, will\n",
    "NN noun, singular 'desk'\n",
    "NNS noun plural 'desks'\n",
    "NNP proper noun, singular 'Harrison'\n",
    "NNPS proper noun, plural 'Americans'\n",
    "PDT predeterminer 'all the kids'\n",
    "POS possessive ending parent's\n",
    "PRP personal pronoun I, he, she\n",
    "PRP$ possessive pronoun my, his, hers\n",
    "RB adverb very, silently,\n",
    "RBR adverb, comparative better\n",
    "RBS adverb, superlative best\n",
    "RP particle give up\n",
    "TO to go 'to' the store.\n",
    "UH interjection errrrrrrrm\n",
    "VB verb, base form take\n",
    "VBD verb, past tense took\n",
    "VBG verb, gerund/present participle taking\n",
    "VBN verb, past participle taken\n",
    "VBP verb, sing. present, non-3d take\n",
    "VBZ verb, 3rd person sing. present takes\n",
    "WDT wh-determiner which\n",
    "WP wh-pronoun who, what\n",
    "WP$ possessive wh-pronoun whose\n",
    "WRB wh-abverb where, when"
   ]
  },
  {
   "cell_type": "code",
   "execution_count": 17,
   "metadata": {
    "id": "Hgee_u886bSX"
   },
   "outputs": [],
   "source": [
    "def extract_tagged(sentences):\n",
    "    features = []\n",
    "    for tagged_word in sentences:\n",
    "        word, tag = tagged_word\n",
    "        if tag=='NN' or tag == 'VBN' or tag == 'NNS' or tag == 'VBP' or tag == 'RB' or tag == 'VBZ' or tag == 'VBG' or tag =='PRP' or tag == 'JJ':\n",
    "            features.append(word)\n",
    "    return features"
   ]
  },
  {
   "cell_type": "code",
   "execution_count": 18,
   "metadata": {
    "colab": {
     "base_uri": "https://localhost:8080/"
    },
    "id": "bWBDI7K86bSX",
    "outputId": "d772cade-f51b-46b8-e7a8-bddb76dcde28"
   },
   "outputs": [
    {
     "data": {
      "text/plain": [
       "['particularly',\n",
       " 'important',\n",
       " 'today',\n",
       " 'world',\n",
       " 'unstructured',\n",
       " 'natural',\n",
       " 'language',\n",
       " 'data',\n",
       " 'variety',\n",
       " 'social',\n",
       " 'media',\n",
       " 'platforms',\n",
       " 'people',\n",
       " 'engage',\n",
       " 'days',\n",
       " 'note',\n",
       " 'days',\n",
       " 'decade']"
      ]
     },
     "execution_count": 18,
     "metadata": {},
     "output_type": "execute_result"
    }
   ],
   "source": [
    "extract_tagged(tags)"
   ]
  },
  {
   "cell_type": "markdown",
   "metadata": {
    "id": "WIymDpA36bSX"
   },
   "source": [
    "## Lemmatize words"
   ]
  },
  {
   "cell_type": "code",
   "execution_count": 19,
   "metadata": {
    "colab": {
     "base_uri": "https://localhost:8080/"
    },
    "id": "mfPEnDrq6bSX",
    "outputId": "4aa910fc-27a1-4616-b53e-a4762761b21a"
   },
   "outputs": [
    {
     "name": "stdout",
     "output_type": "stream",
     "text": [
      "cactus\n",
      "willing\n",
      "foot\n",
      "stemmed\n",
      "cactus\n"
     ]
    }
   ],
   "source": [
    "lmtzr = WordNetLemmatizer()\n",
    "print(lmtzr.lemmatize('cacti'))\n",
    "print(lmtzr.lemmatize('willing'))\n",
    "print(lmtzr.lemmatize('feet'))\n",
    "print(lmtzr.lemmatize('stemmed'))\n",
    "\n",
    "print(lmtzr.lemmatize('cactus'))"
   ]
  },
  {
   "cell_type": "code",
   "execution_count": null,
   "metadata": {
    "id": "e8lfJeEu6bSX"
   },
   "outputs": [],
   "source": []
  },
  {
   "cell_type": "code",
   "execution_count": null,
   "metadata": {
    "id": "lsFaK5VQ6bSX"
   },
   "outputs": [],
   "source": []
  },
  {
   "cell_type": "markdown",
   "metadata": {
    "id": "CFC59X3h6bSX"
   },
   "source": [
    "## Stem words"
   ]
  },
  {
   "cell_type": "code",
   "execution_count": 20,
   "metadata": {
    "id": "tnx5vCYS6bSY"
   },
   "outputs": [],
   "source": [
    "words_for_stemming = ['stem', 'stemming', 'stemmed', 'stemmer', 'stems','feet','willing']"
   ]
  },
  {
   "cell_type": "code",
   "execution_count": 21,
   "metadata": {
    "colab": {
     "base_uri": "https://localhost:8080/"
    },
    "id": "LOgArKiK6bSY",
    "outputId": "acc98f4c-8a1f-4c0d-f258-c376668d09b1"
   },
   "outputs": [
    {
     "data": {
      "text/plain": [
       "['stem', 'stem', 'stem', 'stemmer', 'stem', 'feet', 'will']"
      ]
     },
     "execution_count": 21,
     "metadata": {},
     "output_type": "execute_result"
    }
   ],
   "source": [
    "stemmer = SnowballStemmer(\"english\")\n",
    "[stemmer.stem(x) for x in words_for_stemming]"
   ]
  },
  {
   "cell_type": "markdown",
   "metadata": {
    "id": "T4kfPO0-6bSY"
   },
   "source": [
    "## Putting it all together"
   ]
  },
  {
   "cell_type": "code",
   "execution_count": 22,
   "metadata": {
    "id": "QvT_lYtf6bSY"
   },
   "outputs": [],
   "source": [
    "def extract_feature(text):\n",
    "    words = preprocess(text)\n",
    "#     print('words: ',words)\n",
    "    tags = nltk.pos_tag(words)\n",
    "#     print('tags: ',tags)\n",
    "    extracted_features = extract_tagged(tags)\n",
    "#     print('Extracted features: ',extracted_features)\n",
    "    stemmed_words = [stemmer.stem(x) for x in extracted_features]\n",
    "#     print(stemmed_words)\n",
    "\n",
    "    result = [lmtzr.lemmatize(x) for x in stemmed_words]\n",
    "   \n",
    "    return result"
   ]
  },
  {
   "cell_type": "code",
   "execution_count": 23,
   "metadata": {
    "colab": {
     "base_uri": "https://localhost:8080/",
     "height": 36
    },
    "id": "0UIrwrIq6bSY",
    "outputId": "4e729f7e-1f64-4d4f-9f8c-fe6ca6fdc7fd"
   },
   "outputs": [
    {
     "data": {
      "text/plain": [
       "'The Big brown fox jumped over a lazy dog.'"
      ]
     },
     "execution_count": 23,
     "metadata": {},
     "output_type": "execute_result"
    }
   ],
   "source": [
    "sentence"
   ]
  },
  {
   "cell_type": "code",
   "execution_count": 24,
   "metadata": {
    "colab": {
     "base_uri": "https://localhost:8080/"
    },
    "id": "aDH3jvZ_6bSY",
    "outputId": "2489d258-93b7-428f-b3cc-d3a0e4fa1246"
   },
   "outputs": [
    {
     "name": "stdout",
     "output_type": "stream",
     "text": [
      "['big', 'brown', 'fox', 'lazi', 'dog']\n"
     ]
    }
   ],
   "source": [
    "words = extract_feature(sentence)\n",
    "print(words)"
   ]
  },
  {
   "cell_type": "code",
   "execution_count": 25,
   "metadata": {
    "colab": {
     "base_uri": "https://localhost:8080/"
    },
    "id": "qEAuCyGu6bSY",
    "outputId": "c02eb6ca-db96-41b1-aceb-2823cc29cd1b"
   },
   "outputs": [
    {
     "name": "stdout",
     "output_type": "stream",
     "text": [
      "['particular', 'import', 'today', 'world', 'unstructur', 'natur', 'languag', 'data', 'varieti', 'social', 'medium', 'platform', 'peopl', 'engag', 'day', 'note', 'day', 'decad']\n"
     ]
    }
   ],
   "source": [
    "words = extract_feature(sentence2)\n",
    "print(words)"
   ]
  },
  {
   "cell_type": "code",
   "execution_count": 26,
   "metadata": {
    "colab": {
     "base_uri": "https://localhost:8080/"
    },
    "id": "AGpsGrfg6bSY",
    "outputId": "7b440df4-0d05-47ea-8f4a-9bafa2194dc5"
   },
   "outputs": [
    {
     "data": {
      "text/plain": [
       "['hurt', 'right', 'foot', 'wear', 'white', 'shoe', 'foot']"
      ]
     },
     "execution_count": 26,
     "metadata": {},
     "output_type": "execute_result"
    }
   ],
   "source": [
    "extract_feature(\"He hurt his right foot while he was wearing white shoes on his feet\")"
   ]
  },
  {
   "cell_type": "markdown",
   "metadata": {
    "id": "r0JZ0nfs6bSY"
   },
   "source": [
    "## Implementing bag of words"
   ]
  },
  {
   "cell_type": "markdown",
   "metadata": {
    "id": "G-YhYJUt6bSY"
   },
   "source": [
    "In simple terms, it’s a collection of words to represent a sentence, disregarding the order in which they appear."
   ]
  },
  {
   "cell_type": "code",
   "execution_count": 27,
   "metadata": {
    "id": "STbY5-cS6bSZ"
   },
   "outputs": [],
   "source": [
    "def word_feats(words):\n",
    "    return dict([(word, True) for word in words])"
   ]
  },
  {
   "cell_type": "code",
   "execution_count": 28,
   "metadata": {
    "colab": {
     "base_uri": "https://localhost:8080/"
    },
    "id": "nHh6uLHE6bSZ",
    "outputId": "5b0ff6d8-bdc4-4bf9-dcc5-bafbb459a720"
   },
   "outputs": [
    {
     "data": {
      "text/plain": [
       "{'particular': True,\n",
       " 'import': True,\n",
       " 'today': True,\n",
       " 'world': True,\n",
       " 'unstructur': True,\n",
       " 'natur': True,\n",
       " 'languag': True,\n",
       " 'data': True,\n",
       " 'varieti': True,\n",
       " 'social': True,\n",
       " 'medium': True,\n",
       " 'platform': True,\n",
       " 'peopl': True,\n",
       " 'engag': True,\n",
       " 'day': True,\n",
       " 'note': True,\n",
       " 'decad': True}"
      ]
     },
     "execution_count": 28,
     "metadata": {},
     "output_type": "execute_result"
    }
   ],
   "source": [
    "word_feats(words)"
   ]
  },
  {
   "cell_type": "markdown",
   "metadata": {
    "id": "qOneWPQ-6bSZ"
   },
   "source": [
    "## Parsing the whole document"
   ]
  },
  {
   "cell_type": "code",
   "execution_count": 29,
   "metadata": {
    "id": "9WlTZK4h6bSZ"
   },
   "outputs": [],
   "source": [
    "def extract_feature_from_doc(data):\n",
    "    result = []\n",
    "    corpus = []\n",
    "    # The responses of the chat bot\n",
    "    answers = {}\n",
    "    for (text,category,answer) in data:\n",
    "\n",
    "        features = extract_feature(text)\n",
    "\n",
    "        corpus.append(features)\n",
    "        result.append((word_feats(features), category))\n",
    "        answers[category] = answer\n",
    "\n",
    "    return (result, sum(corpus,[]), answers)"
   ]
  },
  {
   "cell_type": "code",
   "execution_count": 30,
   "metadata": {
    "colab": {
     "base_uri": "https://localhost:8080/"
    },
    "id": "OTivr_qo6bSZ",
    "outputId": "8fa9f515-ee9b-4efd-d59d-ffeab0e2c7c7"
   },
   "outputs": [
    {
     "data": {
      "text/plain": [
       "([({'input': True, 'user': True}, 'category')],\n",
       " ['input', 'user'],\n",
       " {'category': 'answer to give'})"
      ]
     },
     "execution_count": 30,
     "metadata": {},
     "output_type": "execute_result"
    }
   ],
   "source": [
    "extract_feature_from_doc([['this is the input text from the user','category','answer to give']])"
   ]
  },
  {
   "cell_type": "code",
   "execution_count": 34,
   "metadata": {
    "id": "zgiTYS-A6bSZ"
   },
   "outputs": [],
   "source": [
    "def get_content(filename):\n",
    "    doc = os.path.join(filename)\n",
    "    with open(doc, 'r') as content_file:\n",
    "        lines = csv.reader(content_file,delimiter='|')\n",
    "        data = [x for x in lines if len(x) == 3]\n",
    "        return data"
   ]
  },
  {
   "cell_type": "code",
   "execution_count": 36,
   "metadata": {
    "id": "x48GvDys6bSZ"
   },
   "outputs": [],
   "source": [
    "filename = 'leaves.txt'\n",
    "data = get_content(filename)"
   ]
  },
  {
   "cell_type": "code",
   "execution_count": 37,
   "metadata": {
    "colab": {
     "base_uri": "https://localhost:8080/"
    },
    "id": "h73dQRkg6bSZ",
    "outputId": "6b9cec66-6a22-4610-8fa7-72a9e22f60a1"
   },
   "outputs": [
    {
     "data": {
      "text/plain": [
       "[['Hello',\n",
       "  'Greetings',\n",
       "  'Hello. I am Dexter. I will serve your leave enquiries.'],\n",
       " ['hi hello',\n",
       "  'Greetings',\n",
       "  'Hello. I am Dexter. I will serve your leave enquiries.'],\n",
       " ['hi ',\n",
       "  'Greetings',\n",
       "  'Hello. I am Dexter. I will serve your leave enquiries.'],\n",
       " ['hi', 'Greetings', 'Hello. I am Dexter. I will serve your leave enquiries.'],\n",
       " ['hi', 'Greetings', 'Hello. I am Dexter. I will serve your leave enquiries.'],\n",
       " ['hey',\n",
       "  'Greetings',\n",
       "  'Hello. I am Dexter. I will serve your leave enquiries.'],\n",
       " ['hello, hi',\n",
       "  'Greetings',\n",
       "  'Hello. I am Dexter. I will serve your leave enquiries.'],\n",
       " ['hey',\n",
       "  'Greetings',\n",
       "  'Hello. I am Dexter. I will serve your leave enquiries.'],\n",
       " ['hey, hi',\n",
       "  'Greetings',\n",
       "  'Hello. I am Dexter. I will serve your leave enquiries.'],\n",
       " ['hey, hello',\n",
       "  'Greetings',\n",
       "  'Hello. I am Dexter. I will serve your leave enquiries.'],\n",
       " ['Good morning',\n",
       "  'Morning',\n",
       "  'Good Morning. I am Dexter. I will serve your leave enquiries.'],\n",
       " ['Good afternoon',\n",
       "  'Afternoon',\n",
       "  'Good afternoon. I am Dexter. I will serve your leave enquiries.'],\n",
       " ['Good evening',\n",
       "  'Evening',\n",
       "  'Good evening. I am Dexter. I will serve your leave enquiries.'],\n",
       " ['Good night', 'Goodbye', 'Good night. Take care.'],\n",
       " ['How are you today?', 'Opening', \"I'm fine! Thank you. How can I help you?\"],\n",
       " ['want help', 'Help', 'How can I help you?'],\n",
       " ['need help', 'Help', 'How can I help you?'],\n",
       " ['help me', 'Help', 'How can I help you?'],\n",
       " [\"I don't want your help.\",\n",
       "  'No-Help',\n",
       "  'Ok sir/madam. No problem. Have a nice day.'],\n",
       " [\"I don't want your assistance\",\n",
       "  'No-Help',\n",
       "  'Ok sir/madam. No problem. Have a nice day.'],\n",
       " ['No help required', 'No-Help', 'Ok sir/madam. No problem. Have a nice day.'],\n",
       " ['It has been great talking to you.',\n",
       "  'Closing',\n",
       "  \"It's glad to know that I have been helpful. Have a good day!\"],\n",
       " ['great',\n",
       "  'Closing',\n",
       "  \"It's glad to know that I have been helpful. Have a good day!\"],\n",
       " ['thank you for your help',\n",
       "  'Closing',\n",
       "  \"It's glad to know that I have been helpful. Have a good day!\"],\n",
       " ['thank you',\n",
       "  'Closing',\n",
       "  \"It's glad to know that I have been helpful. Have a good day!\"],\n",
       " ['thank you very much',\n",
       "  'Closing',\n",
       "  \"It's glad to know that I have been helpful. Have a good day!\"],\n",
       " ['thanks.',\n",
       "  'Closing',\n",
       "  \"You're welcome!It's glad to know that I have been helpful. Have a good day!\"],\n",
       " ['thanks very much',\n",
       "  'Closing',\n",
       "  \"It's glad to know that I have been helpful. Have a good day!\"],\n",
       " ['How many types of leaves are there?',\n",
       "  'Leaves-Type',\n",
       "  'Currently I know about two: annual and optional leaves.'],\n",
       " ['types of leaves?',\n",
       "  'Leaves-Type',\n",
       "  'Currently I know about two: annual and optional leaves.'],\n",
       " ['type leaves?',\n",
       "  'Leaves-Type',\n",
       "  'Currently I know about two: annual and optional leaves.'],\n",
       " ['leave type?',\n",
       "  'Leaves-Type',\n",
       "  'Currently I know about two: annual and optional leaves.'],\n",
       " ['leaves type?',\n",
       "  'Leaves-Type',\n",
       "  'Currently I know about two: annual and optional leaves.'],\n",
       " ['How many leaves have I taken?',\n",
       "  'Default-Utilized-Annual-Leaves',\n",
       "  'You have used 12 annual leaves.'],\n",
       " ['How many leaves I have already taken?',\n",
       "  'Default-Utilized-Annual-Leaves',\n",
       "  'You have used 12 annual leaves.'],\n",
       " ['how many annual leaves I took?',\n",
       "  'Utilized-Annual-Leaves',\n",
       "  'You have taken 12 annual leaves.'],\n",
       " ['How many annual leaves have I taken?',\n",
       "  'Utilized-Annual-Leaves',\n",
       "  'You have taken 12 annual leaves.'],\n",
       " ['How many annual leaves I have already taken?',\n",
       "  'Utilized-Annual-Leaves',\n",
       "  'You have taken 12 annual leaves.'],\n",
       " ['Tell me the annual leaves count I have taken?',\n",
       "  'Utilized-Annual-Leaves',\n",
       "  'You have taken 12 annual leaves.'],\n",
       " ['How many annual leaves have I taken?',\n",
       "  'Utilized-Annual-Leaves',\n",
       "  'You have taken 12 annual leaves.'],\n",
       " ['number of annual leaves taken?',\n",
       "  'Utilized-Annual-Leaves',\n",
       "  'You have taken 12 annual leaves.'],\n",
       " ['annual leaves taken?',\n",
       "  'Utilized-Annual-Leaves',\n",
       "  'You have taken 12 annual leaves.'],\n",
       " ['number of annual leaves already taken?',\n",
       "  'Utilized-Annual-Leaves',\n",
       "  'You have taken 12 annual leaves.'],\n",
       " ['annual leaves taken?',\n",
       "  'Utilized-Annual-Leaves',\n",
       "  'You have taken 12 annual leaves.'],\n",
       " ['annual leaves already taken?',\n",
       "  'Utilized-Annual-Leaves',\n",
       "  'You have taken 12 annual leaves.'],\n",
       " ['Tell me number of annual leaves I have taken',\n",
       "  'Utilized-Annual-Leaves',\n",
       "  'You have taken 12 annual leaves.'],\n",
       " ['number of annual leaves used?',\n",
       "  'Utilized-Annual-Leaves',\n",
       "  'You have taken 12 annual leaves.'],\n",
       " ['my taken annual leaves',\n",
       "  'Utilized-Annual-Leaves',\n",
       "  'You have taken 12 annual leaves.'],\n",
       " ['annual leaves used?',\n",
       "  'Utilized-Annual-Leaves',\n",
       "  'You have taken 12 annual leaves.'],\n",
       " ['How many optional leaves have I taken',\n",
       "  'Utilized-Optional-Leaves',\n",
       "  'You have taken 1 optional leaves.'],\n",
       " ['How many optional leaves I took',\n",
       "  'Utilized-Optional-Leaves',\n",
       "  'You have taken 1 optional leaves.'],\n",
       " ['optional leaves taken',\n",
       "  'Utilized-Optional-Leaves',\n",
       "  'You have taken 1 optional leaves.'],\n",
       " ['number of optional leaves I have taken?',\n",
       "  'Utilized-Optional-Leaves',\n",
       "  'You have taken 1 optional leaves.'],\n",
       " ['tell me the optional leaves count I have taken',\n",
       "  'Utilized-Optional-Leaves',\n",
       "  'You have taken 1 optional leaves.'],\n",
       " ['tell me number of optional leaves I have taken',\n",
       "  'Utilized-Optional-Leaves',\n",
       "  'You have taken 1 optional leaves.'],\n",
       " ['can you tell me number of optional leaves I have taken',\n",
       "  'Utilized-Optional-Leaves',\n",
       "  'You have taken 1 optional leaves.'],\n",
       " ['please tell me number of optional leaves I have taken',\n",
       "  'Utilized-Optional-Leaves',\n",
       "  'You have taken 1 optional leaves.'],\n",
       " ['How many optional leaves have I taken?',\n",
       "  'Utilized-Optional-Leaves',\n",
       "  'You have taken 1 optional leaves.'],\n",
       " ['number of optional leaves taken?',\n",
       "  'Utilized-Optional-Leaves',\n",
       "  'You have taken 1 optional leaves.'],\n",
       " ['number of optional leaves already taken?',\n",
       "  'Utilized-Optional-Leaves',\n",
       "  'You have taken 1 optional leaves.'],\n",
       " ['optional leaves taken?',\n",
       "  'Utilized-Optional-Leaves',\n",
       "  'You have taken 1 optional leaves.'],\n",
       " ['optional leaves already taken?',\n",
       "  'Utilized-Optional-Leaves',\n",
       "  'You have taken 1 optional leaves.'],\n",
       " ['please tell me number of optional leaves I have used.',\n",
       "  'Utilized-Optional-Leaves',\n",
       "  'You have taken 1 optional leaves.'],\n",
       " ['please tell me number of optional leaves I have used',\n",
       "  'Utilized-Optional-Leaves',\n",
       "  'You have taken 1 optional leaves.'],\n",
       " ['tell me the optional leaves count I have used.',\n",
       "  'Utilized-Optional-Leaves',\n",
       "  'You have taken 1 optional leaves.'],\n",
       " ['tell me the optional leaves count I have used',\n",
       "  'Utilized-Optional-Leaves',\n",
       "  'You have taken 1 optional leaves.'],\n",
       " ['the optional leaves count I have used',\n",
       "  'Utilized-Optional-Leaves',\n",
       "  'You have taken 1 optional leaves.'],\n",
       " ['the optional leaves count I have used?',\n",
       "  'Utilized-Optional-Leaves',\n",
       "  'You have taken 1 optional leaves.'],\n",
       " ['tell me the optional leaves count I have taken',\n",
       "  'Utilized-Optional-Leaves',\n",
       "  'You have taken 1 optional leaves.'],\n",
       " ['tell me the optional leaves count I have taken',\n",
       "  'Utilized-Optional-Leaves',\n",
       "  'You have taken 1 optional leaves.'],\n",
       " ['tell me the optional leaves count I have taken',\n",
       "  'Utilized-Optional-Leaves',\n",
       "  'You have taken 1 optional leaves.'],\n",
       " ['How many optional leaves have I used',\n",
       "  'Utilized-Optional-Leaves',\n",
       "  'You have taken 1 optional leaves.'],\n",
       " ['How many optional leaves have I used?',\n",
       "  'Utilized-Optional-Leaves',\n",
       "  'You have taken 1 optional leaves.'],\n",
       " ['number of optional leaves used?',\n",
       "  'Utilized-Optional-Leaves',\n",
       "  'You have taken 1 optional leaves.'],\n",
       " ['optional leaves used?',\n",
       "  'Utilized-Optional-Leaves',\n",
       "  'You have taken 1 optional leaves.'],\n",
       " ['How many leaves do I have?',\n",
       "  'Default-Balance-Annual-Leaves',\n",
       "  'You have 25 annual leaves left.'],\n",
       " ['How many leaves can I take?',\n",
       "  'Default-Balance-Annual-Leaves',\n",
       "  'You have 25 annual leaves left.'],\n",
       " ['How many leaves are remaining?',\n",
       "  'Default-Balance-Annual-Leaves',\n",
       "  'You have 25 annual leaves left.'],\n",
       " ['remaining leaves.',\n",
       "  'Default-Balance-Annual-Leaves',\n",
       "  'You have 25 annual leaves left.'],\n",
       " ['What are my leaves?',\n",
       "  'Default-Balance-Annual-Leaves',\n",
       "  'You have 25 annual leaves left.'],\n",
       " ['Tell me my leave balance.',\n",
       "  'Default-Balance-Annual-Leaves',\n",
       "  'You have 25 annual leaves left.'],\n",
       " ['my remaining leaves.',\n",
       "  'Default-Balance-Annual-Leaves',\n",
       "  'You have 25 annual leaves left.'],\n",
       " ['leave balance.',\n",
       "  'Default-Balance-Annual-Leaves',\n",
       "  'You have 25 annual leaves left.'],\n",
       " ['leaves pending.',\n",
       "  'Default-Balance-Annual-Leaves',\n",
       "  'You have 25 annual leaves left.'],\n",
       " ['tell me the annual leaves count I have remaining',\n",
       "  'Balance-Annual-Leaves',\n",
       "  'You have 25 annual leaves remaining.'],\n",
       " ['How many annual leaves do I have?',\n",
       "  'Balance-Annual-Leaves',\n",
       "  'You have 25 annual leaves remaining.'],\n",
       " ['What are my annual leaves?',\n",
       "  'Balance-Annual-Leaves',\n",
       "  'You have 25 annual leaves remaining.'],\n",
       " ['What is my annual leave balance?',\n",
       "  'Balance-Annual-Leaves',\n",
       "  'You have 25 annual leaves remaining.'],\n",
       " ['Tell me my annual leaves.',\n",
       "  'Balance-Annual-Leaves',\n",
       "  'You have 25 annual leaves remaining.'],\n",
       " ['How many annual leaves are remaining?',\n",
       "  'Balance-Annual-Leaves',\n",
       "  'You have 25 annual leaves remaining.'],\n",
       " ['Tell me my annual leaves remaining',\n",
       "  'Balance-Annual-Leaves',\n",
       "  'You have 25 annual leaves remaining.'],\n",
       " ['remaining annual leaves.',\n",
       "  'Balance-Annual-Leaves',\n",
       "  'You have 25 annual leaves remaining.'],\n",
       " ['annual leaves remaining.',\n",
       "  'Balance-Annual-Leaves',\n",
       "  'You have 25 annual leaves remaining.'],\n",
       " ['number of annual leaves remaining.',\n",
       "  'Balance-Annual-Leaves',\n",
       "  'You have 25 annual leaves remaining.'],\n",
       " ['number of annual leaves I have?',\n",
       "  'Balance-Annual-Leaves',\n",
       "  'You have 25 annual leaves remaining.'],\n",
       " ['annual leaves remaining.',\n",
       "  'Balance-Annual-Leaves',\n",
       "  'You have 25 annual leaves remaining.'],\n",
       " ['Please tell me the annual leaves count I have remaining.',\n",
       "  'Balance-Annual-Leaves',\n",
       "  'You have 25 annual leaves remaining.'],\n",
       " ['Tell me the annual leaves count I have remaining.',\n",
       "  'Balance-Annual-Leaves',\n",
       "  'You have 25 annual leaves remaining.'],\n",
       " ['the annual leaves count I have remaining.',\n",
       "  'Balance-Annual-Leaves',\n",
       "  'You have 25 annual leaves remaining.'],\n",
       " ['my annual leaves count remaining.',\n",
       "  'Balance-Annual-Leaves',\n",
       "  'You have 25 annual leaves remaining.'],\n",
       " ['Tell me my annual leave balance.',\n",
       "  'Balance-Annual-Leaves',\n",
       "  'You have 25 annual leaves remaining.'],\n",
       " ['annual leave balance.',\n",
       "  'Balance-Annual-Leaves',\n",
       "  'You have 25 annual leaves remaining.'],\n",
       " ['annual leaves.',\n",
       "  'Balance-Annual-Leaves',\n",
       "  'You have 25 annual leaves remaining.'],\n",
       " ['can you tell me number of annual leaves I have remaining',\n",
       "  'Balance-Annual-Leaves',\n",
       "  'You have 25 annual leaves remaining.'],\n",
       " ['please tell me number of annual leaves I have remaining',\n",
       "  'Balance-Annual-Leaves',\n",
       "  'You have 25 annual leaves remaining.'],\n",
       " ['How many optional leaves are remaining?',\n",
       "  'Balance-Optional-Leaves',\n",
       "  'You have 2 optional leaves remaining.'],\n",
       " ['optional leaves remaining?',\n",
       "  'Balance-Optional-Leaves',\n",
       "  'You have 2 optional leaves remaining.'],\n",
       " ['number of optional leaves I have remaining?',\n",
       "  'Balance-Optional-Leaves',\n",
       "  'You have 2 optional leaves remaining.'],\n",
       " ['How many optional leaves do I have?',\n",
       "  'Balance-Optional-Leaves',\n",
       "  'You have 2 optional leaves remaining.'],\n",
       " ['How many optional leaves do I have',\n",
       "  'Balance-Optional-Leaves',\n",
       "  'You have 2 optional leaves remaining.'],\n",
       " ['Tell me my optional leave balance?',\n",
       "  'Balance-Optional-Leaves',\n",
       "  'You have 2 optional leaves remaining.'],\n",
       " ['Tell me my optional leaves left?',\n",
       "  'Balance-Optional-Leaves',\n",
       "  'You have 2 optional leaves remaining.'],\n",
       " ['How many optional leaves can I take?',\n",
       "  'Balance-Optional-Leaves',\n",
       "  'You have 2 optional leaves remaining.'],\n",
       " ['optional leaves take?',\n",
       "  'Balance-Optional-Leaves',\n",
       "  'You have 2 optional leaves remaining.'],\n",
       " ['How many optional leaves I have?',\n",
       "  'Balance-Optional-Leaves',\n",
       "  'You have 2 optional leaves remaining.'],\n",
       " ['Tell me my optional leave balance.',\n",
       "  'Balance-Optional-Leaves',\n",
       "  'You have 2 optional leaves remaining.'],\n",
       " ['tell me the optional leaves count I have remaining',\n",
       "  'Balance-Optional-Leaves',\n",
       "  'You have 2 optional leaves remaining.'],\n",
       " ['optional leaves.',\n",
       "  'Balance-Optional-Leaves',\n",
       "  'You have 2 optional leaves remaining.'],\n",
       " ['optional leaves?',\n",
       "  'Balance-Optional-Leaves',\n",
       "  'You have 2 optional leaves remaining.'],\n",
       " ['optional leave balance',\n",
       "  'Balance-Optional-Leaves',\n",
       "  'You have 2 optional leaves remaining.'],\n",
       " ['optional',\n",
       "  'Balance-Optional-Leaves',\n",
       "  'You have 2 optional leaves remaining.'],\n",
       " ['Tell me the optional leaves count I have remaining.',\n",
       "  'Balance-Optional-Leaves',\n",
       "  'You have 2 optional leaves remaining.'],\n",
       " ['the optional leaves count I have remaining?',\n",
       "  'Balance-Optional-Leaves',\n",
       "  'You have 2 optional leaves remaining.'],\n",
       " ['my optional leaves count remaining.',\n",
       "  'Balance-Optional-Leaves',\n",
       "  'You have 2 optional leaves remaining.'],\n",
       " ['please tell me number of optional leaves I have remaining',\n",
       "  'Balance-Optional-Leaves',\n",
       "  'You have 2 optional leaves remaining.'],\n",
       " ['please tell me number of optional leaves I have remaining.',\n",
       "  'Balance-Optional-Leaves',\n",
       "  'You have 2 optional leaves remaining.'],\n",
       " ['number of optional leaves I have remaining.',\n",
       "  'Balance-Optional-Leaves',\n",
       "  'You have 2 optional leaves remaining.'],\n",
       " ['number of optional leaves I have',\n",
       "  'Balance-Optional-Leaves',\n",
       "  'You have 2 optional leaves remaining.'],\n",
       " ['number of optional leaves?',\n",
       "  'Balance-Optional-Leaves',\n",
       "  'You have 2 optional leaves remaining.'],\n",
       " ['How many carry forward leaves do I have?',\n",
       "  'CF',\n",
       "  'You have 30 carry forward leaves.'],\n",
       " ['number of carry forward leaves I have?',\n",
       "  'CF',\n",
       "  'You have 30 carry forward leaves.'],\n",
       " ['tell me the carry forward leaves count I have',\n",
       "  'CF',\n",
       "  'You have 30 carry forward leaves.'],\n",
       " ['tell me number of carry forward leaves I have',\n",
       "  'CF',\n",
       "  'You have 30 carry forward leaves.'],\n",
       " ['can you tell me number of carry forward leaves I have',\n",
       "  'CF',\n",
       "  'You have 30 carry forward leaves.'],\n",
       " ['please tell me number of carry forward leaves I have',\n",
       "  'CF',\n",
       "  'You have 30 carry forward leaves.'],\n",
       " ['How many carry forwards do I have from previous year?',\n",
       "  'CF',\n",
       "  'You have 30 carry forward leaves.'],\n",
       " ['Tell me my carry forward leaves from previous year',\n",
       "  'CF',\n",
       "  'You have 30 carry forward leaves.'],\n",
       " ['Tell me my carry forward leaves',\n",
       "  'CF',\n",
       "  'You have 30 carry forward leaves.'],\n",
       " ['Tell me carry forward leaves', 'CF', 'You have 30 carry forward leaves.'],\n",
       " ['carry forward leaves', 'CF', 'You have 30 carry forward leaves.'],\n",
       " ['carry forward leave', 'CF', 'You have 30 carry forward leaves.'],\n",
       " ['carry forward', 'CF', 'You have 30 carry forward leaves.'],\n",
       " ['previous year carry forward leaves',\n",
       "  'CF',\n",
       "  'You have 30 carry forward leaves.']]"
      ]
     },
     "execution_count": 37,
     "metadata": {},
     "output_type": "execute_result"
    }
   ],
   "source": [
    "data"
   ]
  },
  {
   "cell_type": "code",
   "execution_count": 38,
   "metadata": {
    "id": "dh3KoZ8i6bSZ"
   },
   "outputs": [],
   "source": [
    "features_data, corpus, answers = extract_feature_from_doc(data)"
   ]
  },
  {
   "cell_type": "code",
   "execution_count": 39,
   "metadata": {
    "colab": {
     "base_uri": "https://localhost:8080/"
    },
    "id": "BDcvs7026bSZ",
    "outputId": "31106a84-0647-4bf0-c772-7dbec35ff131"
   },
   "outputs": [
    {
     "name": "stdout",
     "output_type": "stream",
     "text": [
      "({'mani': True, 'option': True, 'leav': True}, 'Utilized-Optional-Leaves')\n"
     ]
    }
   ],
   "source": [
    "print(features_data[50])"
   ]
  },
  {
   "cell_type": "code",
   "execution_count": 40,
   "metadata": {
    "colab": {
     "base_uri": "https://localhost:8080/"
    },
    "id": "r_PTHY8z6bSa",
    "outputId": "a4a78416-a259-4563-d556-4fc2df8b9e7f"
   },
   "outputs": [
    {
     "data": {
      "text/plain": [
       "['hello',\n",
       " 'hi',\n",
       " 'hello',\n",
       " 'hi',\n",
       " 'hi',\n",
       " 'hi',\n",
       " 'hey',\n",
       " 'hello',\n",
       " 'hi',\n",
       " 'hey',\n",
       " 'hey',\n",
       " 'hi',\n",
       " 'hey',\n",
       " 'hello',\n",
       " 'good',\n",
       " 'morn',\n",
       " 'good',\n",
       " 'afternoon',\n",
       " 'good',\n",
       " 'even',\n",
       " 'good',\n",
       " 'night',\n",
       " 'today',\n",
       " 'want',\n",
       " 'help',\n",
       " 'need',\n",
       " 'help',\n",
       " 'help',\n",
       " 'want',\n",
       " 'help',\n",
       " 'want',\n",
       " 'assist',\n",
       " 'help',\n",
       " 'great',\n",
       " 'talk',\n",
       " 'great',\n",
       " 'thank',\n",
       " 'help',\n",
       " 'thank',\n",
       " 'thank',\n",
       " 'much',\n",
       " 'thank',\n",
       " 'thank',\n",
       " 'much',\n",
       " 'mani',\n",
       " 'type',\n",
       " 'leav',\n",
       " 'type',\n",
       " 'leav',\n",
       " 'type',\n",
       " 'leav',\n",
       " 'type',\n",
       " 'leav',\n",
       " 'type',\n",
       " 'mani',\n",
       " 'leav',\n",
       " 'taken',\n",
       " 'mani',\n",
       " 'leav',\n",
       " 'alreadi',\n",
       " 'taken',\n",
       " 'mani',\n",
       " 'annual',\n",
       " 'leav',\n",
       " 'mani',\n",
       " 'annual',\n",
       " 'leav',\n",
       " 'taken',\n",
       " 'mani',\n",
       " 'annual',\n",
       " 'leav',\n",
       " 'alreadi',\n",
       " 'taken',\n",
       " 'annual',\n",
       " 'leav',\n",
       " 'count',\n",
       " 'taken',\n",
       " 'mani',\n",
       " 'annual',\n",
       " 'leav',\n",
       " 'taken',\n",
       " 'number',\n",
       " 'annual',\n",
       " 'leav',\n",
       " 'taken',\n",
       " 'annual',\n",
       " 'leav',\n",
       " 'taken',\n",
       " 'number',\n",
       " 'annual',\n",
       " 'leav',\n",
       " 'alreadi',\n",
       " 'taken',\n",
       " 'annual',\n",
       " 'leav',\n",
       " 'taken',\n",
       " 'annual',\n",
       " 'leav',\n",
       " 'alreadi',\n",
       " 'taken',\n",
       " 'number',\n",
       " 'annual',\n",
       " 'leav',\n",
       " 'taken',\n",
       " 'number',\n",
       " 'annual',\n",
       " 'leav',\n",
       " 'taken',\n",
       " 'annual',\n",
       " 'leav',\n",
       " 'annual',\n",
       " 'leav',\n",
       " 'mani',\n",
       " 'option',\n",
       " 'leav',\n",
       " 'taken',\n",
       " 'mani',\n",
       " 'option',\n",
       " 'leav',\n",
       " 'option',\n",
       " 'leav',\n",
       " 'taken',\n",
       " 'number',\n",
       " 'option',\n",
       " 'leav',\n",
       " 'taken',\n",
       " 'option',\n",
       " 'leav',\n",
       " 'count',\n",
       " 'taken',\n",
       " 'number',\n",
       " 'option',\n",
       " 'leav',\n",
       " 'taken',\n",
       " 'number',\n",
       " 'option',\n",
       " 'leav',\n",
       " 'taken',\n",
       " 'number',\n",
       " 'option',\n",
       " 'leav',\n",
       " 'taken',\n",
       " 'mani',\n",
       " 'option',\n",
       " 'leav',\n",
       " 'taken',\n",
       " 'number',\n",
       " 'option',\n",
       " 'leav',\n",
       " 'taken',\n",
       " 'number',\n",
       " 'option',\n",
       " 'leav',\n",
       " 'alreadi',\n",
       " 'taken',\n",
       " 'option',\n",
       " 'leav',\n",
       " 'taken',\n",
       " 'option',\n",
       " 'leav',\n",
       " 'alreadi',\n",
       " 'taken',\n",
       " 'number',\n",
       " 'option',\n",
       " 'leav',\n",
       " 'number',\n",
       " 'option',\n",
       " 'leav',\n",
       " 'option',\n",
       " 'leav',\n",
       " 'count',\n",
       " 'use',\n",
       " 'option',\n",
       " 'leav',\n",
       " 'count',\n",
       " 'use',\n",
       " 'option',\n",
       " 'leav',\n",
       " 'count',\n",
       " 'use',\n",
       " 'option',\n",
       " 'leav',\n",
       " 'count',\n",
       " 'use',\n",
       " 'option',\n",
       " 'leav',\n",
       " 'count',\n",
       " 'taken',\n",
       " 'option',\n",
       " 'leav',\n",
       " 'count',\n",
       " 'taken',\n",
       " 'option',\n",
       " 'leav',\n",
       " 'count',\n",
       " 'taken',\n",
       " 'mani',\n",
       " 'option',\n",
       " 'leav',\n",
       " 'mani',\n",
       " 'option',\n",
       " 'leav',\n",
       " 'number',\n",
       " 'option',\n",
       " 'leav',\n",
       " 'option',\n",
       " 'leav',\n",
       " 'mani',\n",
       " 'leav',\n",
       " 'mani',\n",
       " 'leav',\n",
       " 'take',\n",
       " 'mani',\n",
       " 'leav',\n",
       " 'remain',\n",
       " 'remain',\n",
       " 'leav',\n",
       " 'leav',\n",
       " 'tell',\n",
       " 'leav',\n",
       " 'balanc',\n",
       " 'remain',\n",
       " 'leav',\n",
       " 'leav',\n",
       " 'balanc',\n",
       " 'leav',\n",
       " 'pend',\n",
       " 'annual',\n",
       " 'leav',\n",
       " 'count',\n",
       " 'remain',\n",
       " 'mani',\n",
       " 'annual',\n",
       " 'leav',\n",
       " 'annual',\n",
       " 'leav',\n",
       " 'annual',\n",
       " 'leav',\n",
       " 'balanc',\n",
       " 'annual',\n",
       " 'leav',\n",
       " 'mani',\n",
       " 'annual',\n",
       " 'leav',\n",
       " 'remain',\n",
       " 'annual',\n",
       " 'leav',\n",
       " 'remain',\n",
       " 'remain',\n",
       " 'annual',\n",
       " 'leav',\n",
       " 'annual',\n",
       " 'leav',\n",
       " 'remain',\n",
       " 'number',\n",
       " 'annual',\n",
       " 'leav',\n",
       " 'remain',\n",
       " 'number',\n",
       " 'annual',\n",
       " 'leav',\n",
       " 'annual',\n",
       " 'leav',\n",
       " 'remain',\n",
       " 'annual',\n",
       " 'leav',\n",
       " 'count',\n",
       " 'remain',\n",
       " 'annual',\n",
       " 'leav',\n",
       " 'count',\n",
       " 'remain',\n",
       " 'annual',\n",
       " 'leav',\n",
       " 'count',\n",
       " 'remain',\n",
       " 'annual',\n",
       " 'leav',\n",
       " 'count',\n",
       " 'remain',\n",
       " 'annual',\n",
       " 'leav',\n",
       " 'balanc',\n",
       " 'annual',\n",
       " 'leav',\n",
       " 'balanc',\n",
       " 'annual',\n",
       " 'leav',\n",
       " 'number',\n",
       " 'annual',\n",
       " 'leav',\n",
       " 'remain',\n",
       " 'number',\n",
       " 'annual',\n",
       " 'leav',\n",
       " 'remain',\n",
       " 'mani',\n",
       " 'option',\n",
       " 'leav',\n",
       " 'remain',\n",
       " 'option',\n",
       " 'leav',\n",
       " 'remain',\n",
       " 'number',\n",
       " 'option',\n",
       " 'leav',\n",
       " 'remain',\n",
       " 'mani',\n",
       " 'option',\n",
       " 'leav',\n",
       " 'mani',\n",
       " 'option',\n",
       " 'leav',\n",
       " 'option',\n",
       " 'leav',\n",
       " 'balanc',\n",
       " 'option',\n",
       " 'leav',\n",
       " 'mani',\n",
       " 'option',\n",
       " 'leav',\n",
       " 'take',\n",
       " 'option',\n",
       " 'leav',\n",
       " 'take',\n",
       " 'mani',\n",
       " 'option',\n",
       " 'leav',\n",
       " 'option',\n",
       " 'leav',\n",
       " 'balanc',\n",
       " 'option',\n",
       " 'leav',\n",
       " 'count',\n",
       " 'remain',\n",
       " 'option',\n",
       " 'leav',\n",
       " 'option',\n",
       " 'leav',\n",
       " 'option',\n",
       " 'leav',\n",
       " 'balanc',\n",
       " 'option',\n",
       " 'option',\n",
       " 'leav',\n",
       " 'count',\n",
       " 'remain',\n",
       " 'option',\n",
       " 'leav',\n",
       " 'count',\n",
       " 'remain',\n",
       " 'option',\n",
       " 'leav',\n",
       " 'count',\n",
       " 'remain',\n",
       " 'number',\n",
       " 'option',\n",
       " 'leav',\n",
       " 'remain',\n",
       " 'number',\n",
       " 'option',\n",
       " 'leav',\n",
       " 'remain',\n",
       " 'number',\n",
       " 'option',\n",
       " 'leav',\n",
       " 'remain',\n",
       " 'number',\n",
       " 'option',\n",
       " 'leav',\n",
       " 'number',\n",
       " 'option',\n",
       " 'leav',\n",
       " 'mani',\n",
       " 'carri',\n",
       " 'forward',\n",
       " 'leav',\n",
       " 'number',\n",
       " 'carri',\n",
       " 'forward',\n",
       " 'leav',\n",
       " 'tell',\n",
       " 'carri',\n",
       " 'forward',\n",
       " 'leav',\n",
       " 'count',\n",
       " 'number',\n",
       " 'forward',\n",
       " 'leav',\n",
       " 'number',\n",
       " 'forward',\n",
       " 'leav',\n",
       " 'number',\n",
       " 'forward',\n",
       " 'leav',\n",
       " 'mani',\n",
       " 'carri',\n",
       " 'forward',\n",
       " 'previous',\n",
       " 'year',\n",
       " 'tell',\n",
       " 'carri',\n",
       " 'forward',\n",
       " 'leav',\n",
       " 'previous',\n",
       " 'year',\n",
       " 'tell',\n",
       " 'carri',\n",
       " 'forward',\n",
       " 'leav',\n",
       " 'tell',\n",
       " 'carri',\n",
       " 'forward',\n",
       " 'leav',\n",
       " 'forward',\n",
       " 'leav',\n",
       " 'carri',\n",
       " 'forward',\n",
       " 'leav',\n",
       " 'carri',\n",
       " 'forward',\n",
       " 'previous',\n",
       " 'year',\n",
       " 'carri',\n",
       " 'forward',\n",
       " 'leav']"
      ]
     },
     "execution_count": 40,
     "metadata": {},
     "output_type": "execute_result"
    }
   ],
   "source": [
    "corpus"
   ]
  },
  {
   "cell_type": "code",
   "execution_count": 41,
   "metadata": {
    "colab": {
     "base_uri": "https://localhost:8080/"
    },
    "id": "1ISf3TAb6bSa",
    "outputId": "4121babb-ef6d-4b12-f6a4-7de5ac3b209b"
   },
   "outputs": [
    {
     "data": {
      "text/plain": [
       "{'Greetings': 'Hello. I am Dexter. I will serve your leave enquiries.',\n",
       " 'Morning': 'Good Morning. I am Dexter. I will serve your leave enquiries.',\n",
       " 'Afternoon': 'Good afternoon. I am Dexter. I will serve your leave enquiries.',\n",
       " 'Evening': 'Good evening. I am Dexter. I will serve your leave enquiries.',\n",
       " 'Goodbye': 'Good night. Take care.',\n",
       " 'Opening': \"I'm fine! Thank you. How can I help you?\",\n",
       " 'Help': 'How can I help you?',\n",
       " 'No-Help': 'Ok sir/madam. No problem. Have a nice day.',\n",
       " 'Closing': \"It's glad to know that I have been helpful. Have a good day!\",\n",
       " 'Leaves-Type': 'Currently I know about two: annual and optional leaves.',\n",
       " 'Default-Utilized-Annual-Leaves': 'You have used 12 annual leaves.',\n",
       " 'Utilized-Annual-Leaves': 'You have taken 12 annual leaves.',\n",
       " 'Utilized-Optional-Leaves': 'You have taken 1 optional leaves.',\n",
       " 'Default-Balance-Annual-Leaves': 'You have 25 annual leaves left.',\n",
       " 'Balance-Annual-Leaves': 'You have 25 annual leaves remaining.',\n",
       " 'Balance-Optional-Leaves': 'You have 2 optional leaves remaining.',\n",
       " 'CF': 'You have 30 carry forward leaves.'}"
      ]
     },
     "execution_count": 41,
     "metadata": {},
     "output_type": "execute_result"
    }
   ],
   "source": [
    "answers"
   ]
  },
  {
   "cell_type": "markdown",
   "metadata": {
    "id": "0RKTNGbp6bSa"
   },
   "source": [
    "# Train a model using these fetures"
   ]
  },
  {
   "cell_type": "code",
   "execution_count": 42,
   "metadata": {
    "id": "mjVHyug36bSa"
   },
   "outputs": [],
   "source": [
    "## split data into train and test sets\n",
    "split_ratio = 0.8"
   ]
  },
  {
   "cell_type": "code",
   "execution_count": 43,
   "metadata": {
    "id": "8iDB7AlG6bSa"
   },
   "outputs": [],
   "source": [
    "def split_dataset(data, split_ratio):\n",
    "    random.shuffle(data)\n",
    "    data_length = len(data)\n",
    "    train_split = int(data_length * split_ratio)\n",
    "    return (data[:train_split]), (data[train_split:])"
   ]
  },
  {
   "cell_type": "code",
   "execution_count": 44,
   "metadata": {
    "id": "m1sUBaIf6bSa"
   },
   "outputs": [],
   "source": [
    "training_data, test_data = split_dataset(features_data, split_ratio)"
   ]
  },
  {
   "cell_type": "code",
   "execution_count": 45,
   "metadata": {
    "colab": {
     "base_uri": "https://localhost:8080/"
    },
    "id": "KyWK7sT16bSa",
    "outputId": "c6e8170d-64d7-480f-f78d-866d3b980ca8"
   },
   "outputs": [
    {
     "data": {
      "text/plain": [
       "[({'tell': True, 'carri': True, 'forward': True, 'leav': True}, 'CF'),\n",
       " ({'hi': True}, 'Greetings'),\n",
       " ({'today': True}, 'Opening'),\n",
       " ({'mani': True, 'option': True, 'leav': True}, 'Balance-Optional-Leaves'),\n",
       " ({'type': True, 'leav': True}, 'Leaves-Type'),\n",
       " ({'thank': True, 'much': True}, 'Closing'),\n",
       " ({'hello': True}, 'Greetings'),\n",
       " ({'mani': True, 'annual': True, 'leav': True}, 'Utilized-Annual-Leaves'),\n",
       " ({'hi': True}, 'Greetings'),\n",
       " ({'carri': True, 'forward': True}, 'CF'),\n",
       " ({'want': True, 'assist': True}, 'No-Help'),\n",
       " ({'option': True, 'leav': True, 'count': True, 'use': True},\n",
       "  'Utilized-Optional-Leaves'),\n",
       " ({'number': True,\n",
       "   'option': True,\n",
       "   'leav': True,\n",
       "   'alreadi': True,\n",
       "   'taken': True},\n",
       "  'Utilized-Optional-Leaves'),\n",
       " ({'annual': True, 'leav': True}, 'Balance-Annual-Leaves'),\n",
       " ({'option': True, 'leav': True, 'count': True, 'taken': True},\n",
       "  'Utilized-Optional-Leaves'),\n",
       " ({'need': True, 'help': True}, 'Help'),\n",
       " ({'option': True, 'leav': True, 'taken': True}, 'Utilized-Optional-Leaves'),\n",
       " ({'mani': True, 'option': True, 'leav': True}, 'Utilized-Optional-Leaves'),\n",
       " ({'option': True, 'leav': True, 'count': True, 'taken': True},\n",
       "  'Utilized-Optional-Leaves'),\n",
       " ({'annual': True, 'leav': True}, 'Utilized-Annual-Leaves'),\n",
       " ({'annual': True, 'leav': True, 'count': True, 'remain': True},\n",
       "  'Balance-Annual-Leaves'),\n",
       " ({'option': True, 'leav': True, 'take': True}, 'Balance-Optional-Leaves'),\n",
       " ({'hey': True, 'hi': True}, 'Greetings'),\n",
       " ({'great': True, 'talk': True}, 'Closing'),\n",
       " ({'annual': True, 'leav': True, 'balanc': True}, 'Balance-Annual-Leaves'),\n",
       " ({'mani': True, 'annual': True, 'leav': True, 'taken': True},\n",
       "  'Utilized-Annual-Leaves'),\n",
       " ({'hey': True, 'hello': True}, 'Greetings'),\n",
       " ({'number': True, 'option': True, 'leav': True}, 'Utilized-Optional-Leaves'),\n",
       " ({'mani': True, 'option': True, 'leav': True}, 'Balance-Optional-Leaves'),\n",
       " ({'option': True, 'leav': True, 'count': True, 'use': True},\n",
       "  'Utilized-Optional-Leaves'),\n",
       " ({'option': True, 'leav': True, 'alreadi': True, 'taken': True},\n",
       "  'Utilized-Optional-Leaves'),\n",
       " ({'option': True, 'leav': True, 'count': True, 'taken': True},\n",
       "  'Utilized-Optional-Leaves'),\n",
       " ({'mani': True, 'leav': True, 'alreadi': True, 'taken': True},\n",
       "  'Default-Utilized-Annual-Leaves'),\n",
       " ({'annual': True, 'leav': True, 'count': True, 'taken': True},\n",
       "  'Utilized-Annual-Leaves'),\n",
       " ({'option': True, 'leav': True, 'taken': True}, 'Utilized-Optional-Leaves'),\n",
       " ({'mani': True, 'leav': True}, 'Default-Balance-Annual-Leaves'),\n",
       " ({'option': True, 'leav': True}, 'Utilized-Optional-Leaves'),\n",
       " ({'option': True, 'leav': True, 'balanc': True}, 'Balance-Optional-Leaves'),\n",
       " ({'option': True, 'leav': True, 'balanc': True}, 'Balance-Optional-Leaves'),\n",
       " ({'annual': True, 'leav': True, 'count': True, 'remain': True},\n",
       "  'Balance-Annual-Leaves'),\n",
       " ({'option': True, 'leav': True}, 'Balance-Optional-Leaves'),\n",
       " ({'number': True, 'annual': True, 'leav': True, 'remain': True},\n",
       "  'Balance-Annual-Leaves'),\n",
       " ({'number': True, 'annual': True, 'leav': True, 'remain': True},\n",
       "  'Balance-Annual-Leaves'),\n",
       " ({'hey': True}, 'Greetings'),\n",
       " ({'want': True, 'help': True}, 'Help'),\n",
       " ({'leav': True, 'type': True}, 'Leaves-Type'),\n",
       " ({'mani': True, 'leav': True, 'take': True}, 'Default-Balance-Annual-Leaves'),\n",
       " ({'thank': True, 'help': True}, 'Closing'),\n",
       " ({'tell': True, 'leav': True, 'balanc': True},\n",
       "  'Default-Balance-Annual-Leaves'),\n",
       " ({'number': True, 'option': True, 'leav': True}, 'Balance-Optional-Leaves'),\n",
       " ({'good': True, 'even': True}, 'Evening'),\n",
       " ({'annual': True, 'leav': True, 'count': True, 'remain': True},\n",
       "  'Balance-Annual-Leaves'),\n",
       " ({'great': True}, 'Closing'),\n",
       " ({'annual': True, 'leav': True, 'remain': True}, 'Balance-Annual-Leaves'),\n",
       " ({'leav': True, 'pend': True}, 'Default-Balance-Annual-Leaves'),\n",
       " ({'number': True, 'annual': True, 'leav': True}, 'Utilized-Annual-Leaves'),\n",
       " ({'number': True, 'option': True, 'leav': True}, 'Balance-Optional-Leaves'),\n",
       " ({'mani': True, 'carri': True, 'forward': True, 'leav': True}, 'CF'),\n",
       " ({'number': True, 'forward': True, 'leav': True}, 'CF'),\n",
       " ({'hey': True}, 'Greetings'),\n",
       " ({'thank': True}, 'Closing'),\n",
       " ({'mani': True,\n",
       "   'carri': True,\n",
       "   'forward': True,\n",
       "   'previous': True,\n",
       "   'year': True},\n",
       "  'CF'),\n",
       " ({'tell': True, 'carri': True, 'forward': True, 'leav': True, 'count': True},\n",
       "  'CF'),\n",
       " ({'mani': True, 'option': True, 'leav': True, 'remain': True},\n",
       "  'Balance-Optional-Leaves'),\n",
       " ({'option': True, 'leav': True, 'count': True, 'remain': True},\n",
       "  'Balance-Optional-Leaves'),\n",
       " ({'good': True, 'night': True}, 'Goodbye'),\n",
       " ({'number': True, 'option': True, 'leav': True, 'taken': True},\n",
       "  'Utilized-Optional-Leaves'),\n",
       " ({'annual': True, 'leav': True, 'count': True, 'remain': True},\n",
       "  'Balance-Annual-Leaves'),\n",
       " ({'option': True, 'leav': True}, 'Balance-Optional-Leaves'),\n",
       " ({'annual': True, 'leav': True, 'balanc': True}, 'Balance-Annual-Leaves'),\n",
       " ({'number': True, 'annual': True, 'leav': True, 'taken': True},\n",
       "  'Utilized-Annual-Leaves'),\n",
       " ({'number': True, 'option': True, 'leav': True, 'taken': True},\n",
       "  'Utilized-Optional-Leaves'),\n",
       " ({'remain': True, 'leav': True}, 'Default-Balance-Annual-Leaves'),\n",
       " ({'remain': True, 'leav': True}, 'Default-Balance-Annual-Leaves'),\n",
       " ({'mani': True, 'option': True, 'leav': True, 'taken': True},\n",
       "  'Utilized-Optional-Leaves'),\n",
       " ({'leav': True, 'balanc': True}, 'Default-Balance-Annual-Leaves'),\n",
       " ({'number': True, 'annual': True, 'leav': True, 'remain': True},\n",
       "  'Balance-Annual-Leaves'),\n",
       " ({'tell': True,\n",
       "   'carri': True,\n",
       "   'forward': True,\n",
       "   'leav': True,\n",
       "   'previous': True,\n",
       "   'year': True},\n",
       "  'CF'),\n",
       " ({'mani': True, 'type': True, 'leav': True}, 'Leaves-Type'),\n",
       " ({'number': True, 'option': True, 'leav': True, 'remain': True},\n",
       "  'Balance-Optional-Leaves'),\n",
       " ({'thank': True, 'much': True}, 'Closing'),\n",
       " ({'annual': True, 'leav': True, 'remain': True}, 'Balance-Annual-Leaves'),\n",
       " ({'mani': True, 'annual': True, 'leav': True, 'remain': True},\n",
       "  'Balance-Annual-Leaves'),\n",
       " ({'good': True, 'afternoon': True}, 'Afternoon'),\n",
       " ({'type': True}, 'Leaves-Type'),\n",
       " ({'option': True, 'leav': True}, 'Balance-Optional-Leaves'),\n",
       " ({'mani': True, 'leav': True, 'remain': True},\n",
       "  'Default-Balance-Annual-Leaves'),\n",
       " ({'tell': True, 'carri': True, 'forward': True, 'leav': True}, 'CF'),\n",
       " ({'option': True}, 'Balance-Optional-Leaves'),\n",
       " ({'mani': True, 'annual': True, 'leav': True, 'taken': True},\n",
       "  'Utilized-Annual-Leaves'),\n",
       " ({'option': True, 'leav': True, 'count': True, 'remain': True},\n",
       "  'Balance-Optional-Leaves'),\n",
       " ({'option': True, 'leav': True, 'remain': True}, 'Balance-Optional-Leaves'),\n",
       " ({'hello': True, 'hi': True}, 'Greetings'),\n",
       " ({'option': True, 'leav': True, 'count': True, 'remain': True},\n",
       "  'Balance-Optional-Leaves'),\n",
       " ({'annual': True, 'leav': True, 'count': True, 'remain': True},\n",
       "  'Balance-Annual-Leaves'),\n",
       " ({'mani': True, 'option': True, 'leav': True}, 'Utilized-Optional-Leaves'),\n",
       " ({'type': True, 'leav': True}, 'Leaves-Type'),\n",
       " ({'option': True, 'leav': True, 'count': True, 'use': True},\n",
       "  'Utilized-Optional-Leaves'),\n",
       " ({'mani': True, 'annual': True, 'leav': True}, 'Balance-Annual-Leaves'),\n",
       " ({'mani': True, 'leav': True, 'taken': True},\n",
       "  'Default-Utilized-Annual-Leaves'),\n",
       " ({'mani': True, 'option': True, 'leav': True}, 'Utilized-Optional-Leaves'),\n",
       " ({'annual': True, 'leav': True, 'taken': True}, 'Utilized-Annual-Leaves'),\n",
       " ({'option': True, 'leav': True, 'count': True, 'use': True},\n",
       "  'Utilized-Optional-Leaves'),\n",
       " ({'forward': True, 'leav': True}, 'CF'),\n",
       " ({'carri': True, 'forward': True, 'leav': True}, 'CF'),\n",
       " ({'number': True, 'annual': True, 'leav': True, 'taken': True},\n",
       "  'Utilized-Annual-Leaves'),\n",
       " ({'help': True}, 'No-Help'),\n",
       " ({'number': True, 'option': True, 'leav': True, 'taken': True},\n",
       "  'Utilized-Optional-Leaves'),\n",
       " ({'number': True, 'annual': True, 'leav': True}, 'Balance-Annual-Leaves'),\n",
       " ({'number': True, 'carri': True, 'forward': True, 'leav': True}, 'CF'),\n",
       " ({'number': True, 'option': True, 'leav': True, 'taken': True},\n",
       "  'Utilized-Optional-Leaves'),\n",
       " ({'number': True, 'option': True, 'leav': True, 'taken': True},\n",
       "  'Utilized-Optional-Leaves'),\n",
       " ({'number': True, 'forward': True, 'leav': True}, 'CF'),\n",
       " ({'mani': True, 'option': True, 'leav': True, 'take': True},\n",
       "  'Balance-Optional-Leaves')]"
      ]
     },
     "execution_count": 45,
     "metadata": {},
     "output_type": "execute_result"
    }
   ],
   "source": [
    "training_data"
   ]
  },
  {
   "cell_type": "code",
   "execution_count": 46,
   "metadata": {
    "id": "Rp7zqcUh6bSa"
   },
   "outputs": [],
   "source": [
    "# save the data\n",
    "np.save('training_data', training_data)\n",
    "np.save('test_data', test_data)"
   ]
  },
  {
   "cell_type": "markdown",
   "metadata": {
    "id": "ysHnQc1I6bSa"
   },
   "source": [
    "## Classification using Decision tree"
   ]
  },
  {
   "cell_type": "code",
   "execution_count": 47,
   "metadata": {
    "id": "SK3UUz_C6bSa"
   },
   "outputs": [],
   "source": [
    "training_data = np.load('training_data.npy', allow_pickle=True)\n",
    "test_data = np.load('test_data.npy' , allow_pickle=True)"
   ]
  },
  {
   "cell_type": "code",
   "execution_count": 48,
   "metadata": {
    "id": "FsMG-dDC6bSb"
   },
   "outputs": [],
   "source": [
    "def train_using_decision_tree(training_data, test_data):\n",
    "    \n",
    "    classifier = nltk.classify.DecisionTreeClassifier.train(training_data, entropy_cutoff=0.6, support_cutoff=6)\n",
    "    classifier_name = type(classifier).__name__\n",
    "    training_set_accuracy = nltk.classify.accuracy(classifier, training_data)\n",
    "    print('training set accuracy: ', training_set_accuracy)\n",
    "    test_set_accuracy = nltk.classify.accuracy(classifier, test_data)\n",
    "    print('test set accuracy: ', test_set_accuracy)\n",
    "    return classifier, classifier_name, test_set_accuracy, training_set_accuracy"
   ]
  },
  {
   "cell_type": "code",
   "execution_count": 67,
   "metadata": {
    "colab": {
     "base_uri": "https://localhost:8080/"
    },
    "id": "-wPRivUT6bSb",
    "outputId": "32f12006-3cf1-410b-f6bd-fb7beb9f7ca4"
   },
   "outputs": [
    {
     "name": "stdout",
     "output_type": "stream",
     "text": [
      "training set accuracy:  0.9035087719298246\n",
      "test set accuracy:  0.8620689655172413\n"
     ]
    }
   ],
   "source": [
    "dtclassifier, classifier_name, test_set_accuracy, training_set_accuracy = train_using_decision_tree(training_data, test_data)"
   ]
  },
  {
   "cell_type": "code",
   "execution_count": null,
   "metadata": {
    "id": "8aGsB_ce6bSb"
   },
   "outputs": [],
   "source": []
  },
  {
   "cell_type": "markdown",
   "metadata": {
    "id": "JuPmSGA-6bSb"
   },
   "source": [
    "## Classification using Naive Bayes"
   ]
  },
  {
   "cell_type": "code",
   "execution_count": 50,
   "metadata": {
    "id": "RIFY87gj6bSb"
   },
   "outputs": [],
   "source": [
    "def train_using_naive_bayes(training_data, test_data):\n",
    "    classifier = nltk.NaiveBayesClassifier.train(training_data)\n",
    "    classifier_name = type(classifier).__name__\n",
    "    training_set_accuracy = nltk.classify.accuracy(classifier, training_data)\n",
    "    test_set_accuracy = nltk.classify.accuracy(classifier, test_data)\n",
    "    return classifier, classifier_name, test_set_accuracy, training_set_accuracy"
   ]
  },
  {
   "cell_type": "code",
   "execution_count": 62,
   "metadata": {
    "colab": {
     "base_uri": "https://localhost:8080/"
    },
    "id": "A5yZZe_z6bSc",
    "outputId": "9a14657c-f004-48a2-8fa6-42876d9e4458"
   },
   "outputs": [
    {
     "name": "stdout",
     "output_type": "stream",
     "text": [
      "0.8333333333333334\n",
      "0.8275862068965517\n",
      "70\n",
      "Most Informative Features\n",
      "                    leav = None           Greeti : Balanc =     12.0 : 1.0\n",
      "                    mani = True           Defaul : Balanc =      5.7 : 1.0\n",
      "                 alreadi = True           Defaul : Utiliz =      4.6 : 1.0\n",
      "                    help = True             Help : Closin =      3.9 : 1.0\n",
      "                   carri = None           Utiliz : CF     =      3.6 : 1.0\n",
      "                  remain = None           Utiliz : Balanc =      3.0 : 1.0\n",
      "                   count = True           Utiliz : CF     =      2.8 : 1.0\n",
      "                   taken = None           Balanc : Utiliz =      2.8 : 1.0\n",
      "                   thank = None           Utiliz : Closin =      2.7 : 1.0\n",
      "                  balanc = True           Defaul : Balanc =      2.1 : 1.0\n"
     ]
    }
   ],
   "source": [
    "classifier, classifier_name, test_set_accuracy, training_set_accuracy = train_using_naive_bayes(training_data, test_data)\n",
    "print(training_set_accuracy)\n",
    "print(test_set_accuracy)\n",
    "print(len(classifier.most_informative_features()))\n",
    "classifier.show_most_informative_features()"
   ]
  },
  {
   "cell_type": "code",
   "execution_count": 52,
   "metadata": {
    "colab": {
     "base_uri": "https://localhost:8080/",
     "height": 36
    },
    "id": "wV_Z1hf76bSc",
    "outputId": "9f4ba535-d957-4aa7-99a6-ef4e66ab063a"
   },
   "outputs": [
    {
     "data": {
      "text/plain": [
       "'Utilized-Optional-Leaves'"
      ]
     },
     "execution_count": 52,
     "metadata": {},
     "output_type": "execute_result"
    }
   ],
   "source": [
    "classifier.classify(({'mani': True, 'option': True, 'leav': True}))"
   ]
  },
  {
   "cell_type": "code",
   "execution_count": null,
   "metadata": {
    "id": "xCVHB7lq6bSc"
   },
   "outputs": [],
   "source": []
  },
  {
   "cell_type": "code",
   "execution_count": 53,
   "metadata": {
    "colab": {
     "base_uri": "https://localhost:8080/"
    },
    "id": "EgOBB1Ga6bSc",
    "outputId": "6a9b7fbe-9308-451c-b341-bb68b61f0034"
   },
   "outputs": [
    {
     "data": {
      "text/plain": [
       "['hello']"
      ]
     },
     "execution_count": 53,
     "metadata": {},
     "output_type": "execute_result"
    }
   ],
   "source": [
    "extract_feature(\"hello\")"
   ]
  },
  {
   "cell_type": "code",
   "execution_count": 54,
   "metadata": {
    "colab": {
     "base_uri": "https://localhost:8080/"
    },
    "id": "-MQMXJpz6bSc",
    "outputId": "40db2a92-ef18-4e5b-b229-779cc62f040f"
   },
   "outputs": [
    {
     "data": {
      "text/plain": [
       "{'hello': True}"
      ]
     },
     "execution_count": 54,
     "metadata": {},
     "output_type": "execute_result"
    }
   ],
   "source": [
    "word_feats(extract_feature(\"hello\"))"
   ]
  },
  {
   "cell_type": "code",
   "execution_count": 55,
   "metadata": {
    "colab": {
     "base_uri": "https://localhost:8080/",
     "height": 36
    },
    "id": "MS7WkcF36bSc",
    "outputId": "50b76d31-0678-4a8b-b211-5305d46ebd50"
   },
   "outputs": [
    {
     "data": {
      "text/plain": [
       "'Utilized-Optional-Leaves'"
      ]
     },
     "execution_count": 55,
     "metadata": {},
     "output_type": "execute_result"
    }
   ],
   "source": [
    "input_sentence = \"how many balanced leaves do I have?\"\n",
    "classifier.classify(word_feats(extract_feature(input_sentence)))"
   ]
  },
  {
   "cell_type": "code",
   "execution_count": null,
   "metadata": {
    "id": "MjSRn2RP6bSc"
   },
   "outputs": [],
   "source": []
  },
  {
   "cell_type": "code",
   "execution_count": 56,
   "metadata": {
    "id": "hqdDzMdu6bSc"
   },
   "outputs": [],
   "source": [
    "def reply(input_sentence):\n",
    "    category = dtclassifier.classify(word_feats(extract_feature(input_sentence)))\n",
    "    return answers[category]\n",
    "    \n",
    "    "
   ]
  },
  {
   "cell_type": "code",
   "execution_count": 77,
   "metadata": {
    "colab": {
     "base_uri": "https://localhost:8080/",
     "height": 36
    },
    "id": "7DxH1dFY6bSc",
    "outputId": "91dfe434-8ca7-49ed-b590-e5e910547f51"
   },
   "outputs": [
    {
     "data": {
      "text/plain": [
       "'Hello. I am Dexter. I will serve your leave enquiries.'"
      ]
     },
     "execution_count": 77,
     "metadata": {},
     "output_type": "execute_result"
    }
   ],
   "source": [
    "reply('hi')"
   ]
  },
  {
   "cell_type": "code",
   "execution_count": 58,
   "metadata": {
    "colab": {
     "base_uri": "https://localhost:8080/",
     "height": 36
    },
    "id": "PT6HuLtD6bSc",
    "outputId": "0c6abf50-6006-4043-894e-72872dcced94"
   },
   "outputs": [
    {
     "data": {
      "text/plain": [
       "'You have 25 annual leaves remaining.'"
      ]
     },
     "execution_count": 58,
     "metadata": {},
     "output_type": "execute_result"
    }
   ],
   "source": [
    "reply('How many annual leaves do I have left?')"
   ]
  },
  {
   "cell_type": "code",
   "execution_count": 59,
   "metadata": {
    "colab": {
     "base_uri": "https://localhost:8080/",
     "height": 36
    },
    "id": "KoY1u9v66bSd",
    "outputId": "82866d93-4f47-436b-a9e9-d8de29439760"
   },
   "outputs": [
    {
     "data": {
      "text/plain": [
       "'You have used 12 annual leaves.'"
      ]
     },
     "execution_count": 59,
     "metadata": {},
     "output_type": "execute_result"
    }
   ],
   "source": [
    "reply('How many leaves have I taken?')"
   ]
  },
  {
   "cell_type": "code",
   "execution_count": 63,
   "metadata": {
    "colab": {
     "base_uri": "https://localhost:8080/",
     "height": 36
    },
    "id": "QnRb55hc6bSd",
    "outputId": "679bbd6c-7406-4a40-b614-e11416473e53"
   },
   "outputs": [
    {
     "data": {
      "text/plain": [
       "\"It's glad to know that I have been helpful. Have a good day!\""
      ]
     },
     "execution_count": 63,
     "metadata": {},
     "output_type": "execute_result"
    }
   ],
   "source": [
    "reply('Thanks!')"
   ]
  },
  {
   "cell_type": "code",
   "execution_count": 72,
   "metadata": {
    "id": "lRDZrkHw6bSd"
   },
   "outputs": [],
   "source": [
    "with open('chatbot_model.pkl', 'wb') as model_file:\n",
    "    pickle.dump(dtclassifier, model_file)"
   ]
  },
  {
   "cell_type": "code",
   "execution_count": 65,
   "metadata": {
    "id": "NjZL9gyF6bSd"
   },
   "outputs": [],
   "source": [
    "import pickle"
   ]
  },
  {
   "cell_type": "code",
   "execution_count": null,
   "metadata": {
    "id": "DKgoBgPp6bSd"
   },
   "outputs": [],
   "source": []
  },
  {
   "cell_type": "markdown",
   "metadata": {
    "id": "LV6Wv8xZ6bSd"
   },
   "source": [
    "# Conclusion:"
   ]
  },
  {
   "cell_type": "markdown",
   "metadata": {
    "id": "ryaAsld16bSd"
   },
   "source": [
    "Once the model has been developed using an algorithm that gives an acceptable accuracy, this model can be called using to any chatbot UI framework"
   ]
  },
  {
   "cell_type": "code",
   "execution_count": 61,
   "metadata": {
    "colab": {
     "base_uri": "https://localhost:8080/"
    },
    "id": "7vvNTb8I6bSd",
    "outputId": "a2f0750f-66d7-48a7-97b4-900d9a3ddcd5"
   },
   "outputs": [
    {
     "name": "stdout",
     "output_type": "stream",
     "text": [
      "absl-py==1.0.0\n",
      "alabaster @ file:///home/ktietz/src/ci/alabaster_1611921544520/work\n",
      "anaconda-client==1.7.2\n",
      "anaconda-navigator==2.0.3\n",
      "anaconda-project @ file:///tmp/build/80754af9/anaconda-project_1610472525955/work\n",
      "anyio @ file:///C:/ci/anyio_1620153418380/work/dist\n",
      "appdirs==1.4.4\n",
      "argcomplete==2.0.0\n",
      "argh==0.26.2\n",
      "argon2-cffi @ file:///C:/ci/argon2-cffi_1613037959010/work\n",
      "arrow==1.2.3\n",
      "arviz==0.6.1\n",
      "asgiref==3.5.2\n",
      "asn1crypto @ file:///tmp/build/80754af9/asn1crypto_1596577642040/work\n",
      "astroid @ file:///C:/ci/astroid_1613501047216/work\n",
      "astropy @ file:///C:/ci/astropy_1617745647203/work\n",
      "astunparse==1.6.3\n",
      "async-generator @ file:///home/ktietz/src/ci/async_generator_1611927993394/work\n",
      "atomicwrites==1.4.0\n",
      "attrs @ file:///tmp/build/80754af9/attrs_1604765588209/work\n",
      "audioread==2.1.9\n",
      "autopep8 @ file:///tmp/build/80754af9/autopep8_1615918855173/work\n",
      "Babel @ file:///tmp/build/80754af9/babel_1607110387436/work\n",
      "backcall @ file:///home/ktietz/src/ci/backcall_1611930011877/work\n",
      "backports.functools-lru-cache @ file:///tmp/build/80754af9/backports.functools_lru_cache_1618170165463/work\n",
      "backports.shutil-get-terminal-size @ file:///tmp/build/80754af9/backports.shutil_get_terminal_size_1608222128777/work\n",
      "backports.tempfile @ file:///home/linux1/recipes/ci/backports.tempfile_1610991236607/work\n",
      "backports.weakref==1.0.post1\n",
      "backports.zoneinfo==0.2.1\n",
      "bcrypt @ file:///C:/ci/bcrypt_1597936263757/work\n",
      "beautifulsoup4 @ file:///home/linux1/recipes/ci/beautifulsoup4_1610988766420/work\n",
      "bitarray @ file:///C:/ci/bitarray_1618435038389/work\n",
      "bkcharts==0.2\n",
      "black==19.10b0\n",
      "blackjax==0.8.2\n",
      "bleach @ file:///tmp/build/80754af9/bleach_1612211392645/work\n",
      "bokeh @ file:///C:/ci/bokeh_1620784067744/work\n",
      "boto==2.49.0\n",
      "Bottleneck==1.3.2\n",
      "brotlipy==0.7.0\n",
      "cachetools==4.2.4\n",
      "certifi==2020.12.5\n",
      "cffi @ file:///C:/ci/cffi_1613247279197/work\n",
      "cftime==1.6.2\n",
      "chardet==3.0.4\n",
      "charset-normalizer==2.1.0\n",
      "ci-sdr==0.0.0\n",
      "click @ file:///home/linux1/recipes/ci/click_1610990599742/work\n",
      "cloudpickle @ file:///tmp/build/80754af9/cloudpickle_1598884132938/work\n",
      "clyent==1.2.2\n",
      "colorama @ file:///tmp/build/80754af9/colorama_1607707115595/work\n",
      "comtypes==1.1.9\n",
      "conda==4.14.0\n",
      "conda-build==3.21.4\n",
      "conda-content-trust @ file:///tmp/build/80754af9/conda-content-trust_1617045594566/work\n",
      "conda-package-handling @ file:///C:/ci/conda-package-handling_1618262320430/work\n",
      "conda-repo-cli @ file:///tmp/build/80754af9/conda-repo-cli_1620168426516/work\n",
      "conda-token @ file:///tmp/build/80754af9/conda-token_1620076980546/work\n",
      "conda-verify==3.4.2\n",
      "config==0.5.1\n",
      "ConfigArgParse==1.5.3\n",
      "configparser==5.2.0\n",
      "cons==0.4.5\n",
      "contextlib2==0.6.0.post1\n",
      "contourpy==1.0.7\n",
      "cryptography @ file:///C:/ci/cryptography_1616769344312/work\n",
      "ctc-segmentation==1.7.1\n",
      "cvxpy==1.1.17\n",
      "cycler==0.10.0\n",
      "Cython @ file:///C:/ci/cython_1618435363327/work\n",
      "cytoolz==0.11.0\n",
      "dask @ file:///tmp/build/80754af9/dask-core_1617390489108/work\n",
      "decorator @ file:///tmp/build/80754af9/decorator_1617916966915/work\n",
      "deepface==0.0.68\n",
      "defusedxml @ file:///tmp/build/80754af9/defusedxml_1615228127516/work\n",
      "diff-match-patch @ file:///tmp/build/80754af9/diff-match-patch_1594828741838/work\n",
      "Distance==0.1.3\n",
      "distributed @ file:///C:/ci/distributed_1617384289923/work\n",
      "Django==4.1.3\n",
      "docker-pycreds==0.4.0\n",
      "docopt==0.6.2\n",
      "docutils @ file:///C:/ci/docutils_1617481617511/work\n",
      "ecos==2.0.7.post1\n",
      "einops==0.4.1\n",
      "emoji==2.0.0\n",
      "entrypoints==0.3\n",
      "espnet==202207\n",
      "espnet-model-zoo==0.1.7\n",
      "espnet-tts-frontend==0.0.3\n",
      "et-xmlfile==1.0.1\n",
      "etuples==0.3.8\n",
      "Farama-Notifications==0.0.4\n",
      "fast-bss-eval==0.1.3\n",
      "fastcache==1.1.0\n",
      "fastprogress==1.0.3\n",
      "filelock @ file:///home/linux1/recipes/ci/filelock_1610993975404/work\n",
      "findspark==1.4.2\n",
      "flake8 @ file:///tmp/build/80754af9/flake8_1615834841867/work\n",
      "Flask @ file:///home/ktietz/src/ci/flask_1611932660458/work\n",
      "flatbuffers==2.0\n",
      "fonttools==4.38.0\n",
      "fsspec @ file:///tmp/build/80754af9/fsspec_1617959894824/work\n",
      "future==0.18.2\n",
      "g2p-en==2.1.0\n",
      "gast==0.4.0\n",
      "gdown==4.2.0\n",
      "gevent @ file:///C:/ci/gevent_1616773090559/work\n",
      "gitdb==4.0.9\n",
      "GitPython==3.1.27\n",
      "glob2 @ file:///home/linux1/recipes/ci/glob2_1610991677669/work\n",
      "google-api-core==2.8.2\n",
      "google-auth==2.3.3\n",
      "google-auth-oauthlib==0.4.6\n",
      "google-cloud==0.34.0\n",
      "google-cloud-core==2.3.2\n",
      "google-cloud-datastore==2.8.0\n",
      "google-cloud-storage==2.5.0\n",
      "google-cloud-texttospeech==2.12.0\n",
      "google-crc32c==1.3.0\n",
      "google-pasta==0.2.0\n",
      "google-resumable-media==2.3.3\n",
      "googleapis-common-protos==1.56.4\n",
      "googletrans==3.0.0\n",
      "greenlet @ file:///C:/ci/greenlet_1611958565931/work\n",
      "grpcio==1.47.0\n",
      "grpcio-status==1.47.0\n",
      "gTTS==2.2.4\n",
      "gym==0.21.0\n",
      "gym-notices==0.0.8\n",
      "gym-retro==0.8.0\n",
      "gymnasium==0.29.1\n",
      "h11==0.9.0\n",
      "h2==3.2.0\n",
      "h5py==2.10.0\n",
      "hdbscan @ file:///D:/bld/hdbscan_1644612923597/work\n",
      "HeapDict==1.0.1\n",
      "helpers==0.2.0\n",
      "hpack==3.0.0\n",
      "hstspreload==2022.8.1\n",
      "html5lib @ file:///tmp/build/80754af9/html5lib_1593446221756/work\n",
      "httpcore==0.9.1\n",
      "httpx==0.13.3\n",
      "huggingface-hub==0.5.1\n",
      "humanfriendly==10.0\n",
      "hyperframe==5.2.0\n",
      "ibm-cloud-sdk-core==3.16.0\n",
      "ibm-watson==6.0.0\n",
      "idna @ file:///home/linux1/recipes/ci/idna_1610986105248/work\n",
      "image==1.5.33\n",
      "imagecodecs @ file:///C:/ci/imagecodecs_1617996768495/work\n",
      "imageio @ file:///tmp/build/80754af9/imageio_1617700267927/work\n",
      "imagesize @ file:///home/ktietz/src/ci/imagesize_1611921604382/work\n",
      "imbalanced-learn==0.8.1\n",
      "imblearn==0.0\n",
      "importlib-metadata==7.0.1\n",
      "imutils @ file:///D:/bld/imutils_1639012471610/work\n",
      "inflect==6.0.0\n",
      "inform==1.27.0\n",
      "iniconfig @ file:///home/linux1/recipes/ci/iniconfig_1610983019677/work\n",
      "intervaltree @ file:///tmp/build/80754af9/intervaltree_1598376443606/work\n",
      "ipykernel @ file:///C:/ci/ipykernel_1596190155316/work/dist/ipykernel-5.3.4-py3-none-any.whl\n",
      "ipython @ file:///C:/ci/ipython_1617121002983/work\n",
      "ipython-genutils @ file:///tmp/build/80754af9/ipython_genutils_1606773439826/work\n",
      "ipywidgets @ file:///tmp/build/80754af9/ipywidgets_1610481889018/work\n",
      "isort @ file:///tmp/build/80754af9/isort_1616355431277/work\n",
      "itsdangerous @ file:///home/ktietz/src/ci/itsdangerous_1611932585308/work\n",
      "jaconv==0.3\n",
      "jamo==0.4.1\n",
      "jdcal==1.4.1\n",
      "jedi @ file:///C:/ci/jedi_1606914528444/work\n",
      "Jinja2 @ file:///tmp/build/80754af9/jinja2_1612213139570/work\n",
      "joblib @ file:///tmp/build/80754af9/joblib_1613502643832/work\n",
      "json5==0.9.5\n",
      "jsonschema @ file:///tmp/build/80754af9/jsonschema_1602607155483/work\n",
      "jupyter==1.0.0\n",
      "jupyter-client @ file:///tmp/build/80754af9/jupyter_client_1616770841739/work\n",
      "jupyter-console @ file:///tmp/build/80754af9/jupyter_console_1616615302928/work\n",
      "jupyter-core @ file:///C:/ci/jupyter_core_1612213356021/work\n",
      "jupyter-packaging @ file:///tmp/build/80754af9/jupyter-packaging_1613502826984/work\n",
      "jupyter-server @ file:///C:/ci/jupyter_server_1616084298403/work\n",
      "jupyterlab @ file:///tmp/build/80754af9/jupyterlab_1619133235951/work\n",
      "jupyterlab-pygments @ file:///tmp/build/80754af9/jupyterlab_pygments_1601490720602/work\n",
      "jupyterlab-server @ file:///tmp/build/80754af9/jupyterlab_server_1617134334258/work\n",
      "jupyterlab-widgets @ file:///tmp/build/80754af9/jupyterlab_widgets_1609884341231/work\n",
      "kaldiio==2.17.2\n",
      "keras==2.7.0\n",
      "Keras-Preprocessing==1.1.2\n",
      "keyring @ file:///C:/ci/keyring_1614616910860/work\n",
      "kiwisolver @ file:///C:/ci/kiwisolver_1612282606037/work\n",
      "lazy-object-proxy @ file:///C:/ci/lazy-object-proxy_1616529307648/work\n",
      "libarchive-c @ file:///tmp/build/80754af9/python-libarchive-c_1617780486945/work\n",
      "libclang==12.0.0\n",
      "librosa==0.9.2\n",
      "llvmlite==0.36.0\n",
      "locket==0.2.1\n",
      "logical-unification==0.4.5\n",
      "lxml @ file:///C:/ci/lxml_1616443455957/work\n",
      "Mako @ file:///C:/b/abs_e2_71_9f9g/croot/mako_1665472436410/work\n",
      "Markdown==3.3.4\n",
      "MarkupSafe==1.1.1\n",
      "matplotlib==3.6.3\n",
      "mccabe==0.6.1\n",
      "menuinst==1.4.16\n",
      "miniKanren==1.0.3\n",
      "mistune==0.8.4\n",
      "mkl-fft==1.3.0\n",
      "mkl-random @ file:///C:/ci/mkl_random_1618854156666/work\n",
      "mkl-service==2.3.0\n",
      "mmm==0.4.2\n",
      "mock @ file:///tmp/build/80754af9/mock_1607622725907/work\n",
      "more-itertools @ file:///tmp/build/80754af9/more-itertools_1613676688952/work\n",
      "mpmath==1.2.1\n",
      "mrz==0.6.2\n",
      "msgpack @ file:///C:/ci/msgpack-python_1612287368835/work\n",
      "mtcnn==0.1.1\n",
      "multipledispatch==0.6.0\n",
      "mypy-extensions==0.4.3\n",
      "natsort==8.0.2\n",
      "navigator-updater==0.2.1\n",
      "nbclassic @ file:///tmp/build/80754af9/nbclassic_1616085367084/work\n",
      "nbclient @ file:///tmp/build/80754af9/nbclient_1614364831625/work\n",
      "nbconvert @ file:///C:/ci/nbconvert_1601914925608/work\n",
      "nbformat @ file:///tmp/build/80754af9/nbformat_1617383369282/work\n",
      "neattext==0.1.3\n",
      "nest-asyncio @ file:///tmp/build/80754af9/nest-asyncio_1613680548246/work\n",
      "netCDF4==1.6.2\n",
      "networkx @ file:///tmp/build/80754af9/networkx_1598376031484/work\n",
      "nltk @ file:///tmp/build/80754af9/nltk_1618327084230/work\n",
      "nose @ file:///tmp/build/80754af9/nose_1606773131901/work\n",
      "notebook @ file:///C:/ci/notebook_1616443715883/work\n",
      "NRCLex==3.0.0\n",
      "numba @ file:///C:/ci/numba_1616774458845/work\n",
      "numexpr @ file:///C:/ci/numexpr_1618856738664/work\n",
      "numpy==1.21.6\n",
      "numpydoc @ file:///tmp/build/80754af9/numpydoc_1605117425582/work\n",
      "oauthlib==3.1.1\n",
      "olefile==0.46\n",
      "opencv-python==4.5.4.60\n",
      "openpyxl @ file:///tmp/build/80754af9/openpyxl_1615411699337/work\n",
      "opt-einsum==3.3.0\n",
      "osqp==0.6.2.post0\n",
      "outcome==1.1.0\n",
      "packaging==21.3\n",
      "pandas==1.5.3\n",
      "pandas-datareader==0.10.0\n",
      "pandocfilters @ file:///C:/ci/pandocfilters_1605102497129/work\n",
      "parallel-wavegan==0.5.5\n",
      "paramiko @ file:///tmp/build/80754af9/paramiko_1598886428689/work\n",
      "parso==0.7.0\n",
      "partd @ file:///tmp/build/80754af9/partd_1618000087440/work\n",
      "path @ file:///C:/ci/path_1614022440181/work\n",
      "pathlib==1.0.1\n",
      "pathlib2 @ file:///C:/ci/pathlib2_1607025069150/work\n",
      "pathspec==0.7.0\n",
      "pathtools==0.1.2\n",
      "patsy==0.5.3\n",
      "pdf2image==1.16.0\n",
      "pep8==1.7.1\n",
      "pexpect @ file:///tmp/build/80754af9/pexpect_1605563209008/work\n",
      "phasepack==1.5\n",
      "pickleshare @ file:///tmp/build/80754af9/pickleshare_1606932040724/work\n",
      "Pillow @ file:///C:/ci/pillow_1617386341487/work\n",
      "pkginfo==1.7.0\n",
      "playsound==1.3.0\n",
      "plotly==5.5.0\n",
      "pluggy @ file:///C:/ci/pluggy_1615976358795/work\n",
      "ply==3.10\n",
      "pooch==1.6.0\n",
      "PREDICT==3.1.13\n",
      "prometheus-client @ file:///tmp/build/80754af9/prometheus_client_1618088486455/work\n",
      "promise==2.3\n",
      "prompt-toolkit @ file:///tmp/build/80754af9/prompt-toolkit_1616415428029/work\n",
      "proto-plus==1.22.0\n",
      "protobuf==3.19.1\n",
      "psf-utils==1.6.0\n",
      "psutil @ file:///C:/ci/psutil_1612298324802/work\n",
      "ptyprocess @ file:///tmp/build/80754af9/ptyprocess_1609355006118/work/dist/ptyprocess-0.7.0-py2.py3-none-any.whl\n",
      "py @ file:///tmp/build/80754af9/py_1607971587848/work\n",
      "py4j==0.10.9.2\n",
      "pyasn1==0.4.8\n",
      "pyasn1-modules==0.2.8\n",
      "PyAudio==0.2.12\n",
      "pycodestyle @ file:///home/ktietz/src/ci_mi/pycodestyle_1612807597675/work\n",
      "pycosat==0.6.3\n",
      "pycparser @ file:///tmp/build/80754af9/pycparser_1594388511720/work\n",
      "pycurl==7.43.0.6\n",
      "pydantic==1.9.1\n",
      "pydicom==2.2.2\n",
      "pydocstyle @ file:///tmp/build/80754af9/pydocstyle_1616182067796/work\n",
      "pydub==0.25.1\n",
      "pyerfa @ file:///C:/ci/pyerfa_1619391071834/work\n",
      "pyflakes @ file:///home/ktietz/src/ci_ipy2/pyflakes_1612551159640/work\n",
      "pygame==2.1.2\n",
      "pyglet==1.5.11\n",
      "Pygments @ file:///tmp/build/80754af9/pygments_1615143339740/work\n",
      "pygpu==0.7.6\n",
      "PyJWT==2.4.0\n",
      "pykwalify==1.8.0\n",
      "pylint @ file:///C:/ci/pylint_1617136058775/work\n",
      "pyls-black @ file:///tmp/build/80754af9/pyls-black_1607553132291/work\n",
      "pyls-spyder @ file:///tmp/build/80754af9/pyls-spyder_1613849700860/work\n",
      "pymc==5.0.2\n",
      "pymc3==3.8\n",
      "pymongo==4.0.2\n",
      "PyMySQL==1.1.0\n",
      "PyNaCl @ file:///C:/ci/pynacl_1595000047588/work\n",
      "pyo==1.0.4\n",
      "pyodbc===4.0.0-unsupported\n",
      "pyOpenSSL @ file:///tmp/build/80754af9/pyopenssl_1608057966937/work\n",
      "pyparsing @ file:///home/linux1/recipes/ci/pyparsing_1610983426697/work\n",
      "PyPDF2==1.27.8\n",
      "pypinyin==0.44.0\n",
      "pypiwin32==223\n",
      "pyportfolioopt==1.5.1\n",
      "pyradiomics==3.0.1\n",
      "pyreadline==2.1\n",
      "pyreadline3==3.4.1\n",
      "pyrsistent @ file:///C:/ci/pyrsistent_1600141795814/work\n",
      "PySocks @ file:///C:/ci/pysocks_1605287845585/work\n",
      "pyspark==3.2.0\n",
      "pytensor==2.9.1\n",
      "pytesseract==0.3.10\n",
      "pytest==6.2.3\n",
      "pytest-nunit==0.6.0\n",
      "python-dateutil @ file:///home/ktietz/src/ci/python-dateutil_1611928101742/work\n",
      "python-jsonrpc-server @ file:///tmp/build/80754af9/python-jsonrpc-server_1600278539111/work\n",
      "python-language-server @ file:///tmp/build/80754af9/python-language-server_1607972495879/work\n",
      "python-speech-features==0.4\n",
      "python-speech-features-cuda==0.0.10\n",
      "pytorch-wpe==0.0.1\n",
      "pyttsx3==2.90\n",
      "pytz @ file:///tmp/build/80754af9/pytz_1612215392582/work\n",
      "pytz-deprecation-shim==0.1.0.post0\n",
      "PyWavelets==0.5.2\n",
      "pywin32==227\n",
      "pywin32-ctypes==0.2.0\n",
      "pywinpty==0.5.7\n",
      "pyworld==0.3.0\n",
      "PyYAML==5.4.1\n",
      "pyzmq==20.0.0\n",
      "QDarkStyle==2.8.1\n",
      "qdldl==0.1.5.post0\n",
      "QtAwesome @ file:///tmp/build/80754af9/qtawesome_1615991616277/work\n",
      "qtconsole @ file:///tmp/build/80754af9/qtconsole_1616775094278/work\n",
      "QtPy==1.9.0\n",
      "quantiphy==2.19\n",
      "regex @ file:///C:/ci/regex_1617569893741/work\n",
      "requests==2.28.1\n",
      "requests-oauthlib==1.3.0\n",
      "resampy==0.4.0\n",
      "retina-face==0.0.5\n",
      "rfc3986==1.5.0\n",
      "rope @ file:///tmp/build/80754af9/rope_1602264064449/work\n",
      "rsa==4.7.2\n",
      "Rtree @ file:///C:/ci/rtree_1618421009405/work\n",
      "ruamel-yaml-conda @ file:///C:/ci/ruamel_yaml_1616016967756/work\n",
      "ruamel.yaml==0.17.17\n",
      "ruamel.yaml.clib==0.2.6\n",
      "sacremoses==0.0.49\n",
      "scikit-image==0.16.2\n",
      "scikit-learn @ file:///C:/ci/scikit-learn_1614446896245/work\n",
      "scikit-plot==0.3.7\n",
      "scipy==1.10.0\n",
      "scs==2.1.4\n",
      "seaborn @ file:///tmp/build/80754af9/seaborn_1608578541026/work\n",
      "seasonal==0.3.1\n",
      "selenium==4.0.0\n",
      "Send2Trash @ file:///tmp/build/80754af9/send2trash_1607525499227/work\n",
      "sentence-transformers==2.2.0\n",
      "sentencepiece==0.1.86\n",
      "sentry-sdk==1.9.3\n",
      "setproctitle==1.3.1\n",
      "Shimmy==1.3.0\n",
      "shortuuid==1.0.9\n",
      "simplegeneric==0.8.1\n",
      "SimpleITK==2.1.1\n",
      "singledispatch @ file:///tmp/build/80754af9/singledispatch_1614366001199/work\n",
      "sip==4.19.13\n",
      "six @ file:///C:/ci/six_1605187374963/work\n",
      "smmap==5.0.0\n",
      "sniffio @ file:///C:/ci/sniffio_1614030707456/work\n",
      "snowballstemmer @ file:///tmp/build/80754af9/snowballstemmer_1611258885636/work\n",
      "sortedcollections @ file:///tmp/build/80754af9/sortedcollections_1611172717284/work\n",
      "sortedcontainers @ file:///tmp/build/80754af9/sortedcontainers_1606865132123/work\n",
      "sounddevice==0.4.5\n",
      "SoundFile==0.10.3.post1\n",
      "soupsieve @ file:///tmp/build/80754af9/soupsieve_1616183228191/work\n",
      "Sphinx @ file:///tmp/build/80754af9/sphinx_1620777493457/work\n",
      "sphinxcontrib-applehelp @ file:///home/ktietz/src/ci/sphinxcontrib-applehelp_1611920841464/work\n",
      "sphinxcontrib-devhelp @ file:///home/ktietz/src/ci/sphinxcontrib-devhelp_1611920923094/work\n",
      "sphinxcontrib-htmlhelp @ file:///home/ktietz/src/ci/sphinxcontrib-htmlhelp_1611920974801/work\n",
      "sphinxcontrib-jsmath @ file:///home/ktietz/src/ci/sphinxcontrib-jsmath_1611920942228/work\n",
      "sphinxcontrib-qthelp @ file:///home/ktietz/src/ci/sphinxcontrib-qthelp_1611921055322/work\n",
      "sphinxcontrib-serializinghtml @ file:///home/ktietz/src/ci/sphinxcontrib-serializinghtml_1611920755253/work\n",
      "sphinxcontrib-websupport @ file:///tmp/build/80754af9/sphinxcontrib-websupport_1597081412696/work\n",
      "spyder @ file:///C:/ci/spyder_1616776239898/work\n",
      "spyder-kernels @ file:///C:/ci/spyder-kernels_1614030842607/work\n",
      "SQLAlchemy @ file:///C:/ci/sqlalchemy_1618090063261/work\n",
      "sqlparse==0.4.3\n",
      "statsmodels==0.13.5\n",
      "sympy @ file:///C:/ci/sympy_1618255511605/work\n",
      "tables==3.6.1\n",
      "tblib @ file:///tmp/build/80754af9/tblib_1597928476713/work\n",
      "tenacity==8.0.1\n",
      "tensorboard==2.7.0\n",
      "tensorboard-data-server==0.6.1\n",
      "tensorboard-plugin-wit==1.8.0\n",
      "tensorboardX==2.5.1\n",
      "tensorflow==2.7.0\n",
      "tensorflow-estimator==2.7.0\n",
      "tensorflow-io-gcs-filesystem==0.22.0\n",
      "termcolor==1.1.0\n",
      "terminado==0.9.4\n",
      "tesseract==0.1.3\n",
      "testpath @ file:///home/ktietz/src/ci/testpath_1611930608132/work\n",
      "text2emotion==0.0.5\n",
      "textblob==0.17.1\n",
      "textdistance @ file:///tmp/build/80754af9/textdistance_1612461398012/work\n",
      "Theano==1.0.5\n",
      "threadpoolctl @ file:///tmp/tmp9twdgx9k/threadpoolctl-2.1.0-py3-none-any.whl\n",
      "three-merge @ file:///tmp/build/80754af9/three-merge_1607553261110/work\n",
      "tifffile @ file:///tmp/build/80754af9/tifffile_1619636090847/work\n",
      "tokenizers==0.12.1\n",
      "toml @ file:///tmp/build/80754af9/toml_1616166611790/work\n",
      "toolz @ file:///home/linux1/recipes/ci/toolz_1610987900194/work\n",
      "torch==1.13.1\n",
      "torch-complex==0.4.3\n",
      "torchvision==0.12.0\n",
      "tornado @ file:///C:/ci/tornado_1606942392901/work\n",
      "tqdm @ file:///tmp/build/80754af9/tqdm_1615925068909/work\n",
      "traitlets @ file:///home/ktietz/src/ci/traitlets_1611929699868/work\n",
      "transformers==4.18.0\n",
      "trio==0.19.0\n",
      "trio-websocket==0.9.2\n",
      "typed-ast @ file:///C:/ci/typed-ast_1610466535590/work\n",
      "typeguard==2.13.3\n",
      "typing-extensions==4.4.0\n",
      "tzdata==2022.6\n",
      "tzlocal==4.2\n",
      "ujson @ file:///C:/ci/ujson_1611241570789/work\n",
      "unicodecsv==0.14.1\n",
      "Unidecode==1.3.4\n",
      "urllib3==1.26.11\n",
      "wandb==0.13.1\n",
      "watchdog @ file:///C:/ci/watchdog_1612471251191/work\n",
      "Wave==0.0.2\n",
      "wcwidth @ file:///tmp/build/80754af9/wcwidth_1593447189090/work\n",
      "webencodings==0.5.1\n",
      "websocket-client==1.1.0\n",
      "Werkzeug @ file:///home/ktietz/src/ci/werkzeug_1611932622770/work\n",
      "widgetsnbextension==3.5.1\n",
      "win-inet-pton @ file:///C:/ci/win_inet_pton_1605306167264/work\n",
      "win-unicode-console==0.5\n",
      "wincertstore==0.2\n",
      "wordcloud==1.8.2.2\n",
      "wrapt==1.12.1\n",
      "wsproto==1.0.0\n",
      "xarray==2023.1.0\n",
      "xarray-einstats==0.5.1\n",
      "xlrd @ file:///tmp/build/80754af9/xlrd_1608072521494/work\n",
      "XlsxWriter @ file:///tmp/build/80754af9/xlsxwriter_1617224712951/work\n",
      "xlwings==0.23.0\n",
      "xlwt==1.3.0\n",
      "xmltodict==0.12.0\n",
      "yapf @ file:///tmp/build/80754af9/yapf_1615749224965/work\n",
      "yq==3.1.0\n",
      "zict==2.0.0\n",
      "zipp @ file:///tmp/build/80754af9/zipp_1615904174917/work\n",
      "zope.event==4.5.0\n",
      "zope.interface @ file:///C:/ci/zope.interface_1616357322857/work\n"
     ]
    }
   ],
   "source": [
    "!pip freeze"
   ]
  },
  {
   "cell_type": "code",
   "execution_count": null,
   "metadata": {
    "id": "VQkZ9Sul-TI1"
   },
   "outputs": [],
   "source": []
  }
 ],
 "metadata": {
  "colab": {
   "provenance": []
  },
  "kernelspec": {
   "display_name": "Python 3",
   "language": "python",
   "name": "python3"
  },
  "language_info": {
   "codemirror_mode": {
    "name": "ipython",
    "version": 3
   },
   "file_extension": ".py",
   "mimetype": "text/x-python",
   "name": "python",
   "nbconvert_exporter": "python",
   "pygments_lexer": "ipython3",
   "version": "3.8.8"
  }
 },
 "nbformat": 4,
 "nbformat_minor": 1
}
